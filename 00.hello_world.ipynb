{
  "nbformat": 4,
  "nbformat_minor": 0,
  "metadata": {
    "colab": {
      "name": "Untitled1.ipynb",
      "provenance": [],
      "include_colab_link": true
    },
    "kernelspec": {
      "name": "python3",
      "display_name": "Python 3"
    }
  },
  "cells": [
    {
      "cell_type": "markdown",
      "metadata": {
        "id": "view-in-github",
        "colab_type": "text"
      },
      "source": [
        "<a href=\"https://colab.research.google.com/github/moontrace/HackerRank_Challenges/blob/master/00.hello_world.ipynb\" target=\"_parent\"><img src=\"https://colab.research.google.com/assets/colab-badge.svg\" alt=\"Open In Colab\"/></a>"
      ]
    },
    {
      "cell_type": "code",
      "metadata": {
        "id": "dlpAgSLbL-Mb",
        "colab_type": "code",
        "colab": {}
      },
      "source": [
        "# Read a full line of input from stdin and save it to our dynamically typed variable, input_string.\n",
        "input_string = input()\n",
        "\n",
        "# Print a string literal saying \"Hello, World.\" to stdout.\n",
        "print('Hello, World.')\n",
        "\n",
        "# TODO: Write a line of code here that prints the contents of input_string to stdout.\n",
        "print(input_string)\n"
      ],
      "execution_count": 0,
      "outputs": []
    }
  ]
}