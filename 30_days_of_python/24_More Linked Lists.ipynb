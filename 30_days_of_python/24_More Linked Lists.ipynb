{
 "cells": [
  {
   "cell_type": "markdown",
   "metadata": {},
   "source": [
    "여기서부터는 본격적으로 C와 관련된 특성들을 배우는 것 같다.\n",
    "포인터와 노드를 활용하는 방법인데 재귀적인 구조를 이해해야하는 것 같다.\n",
    "파이썬에서 노드를 구현하는 법은 알아도 정확히 어떻게 활용되는지는 잘 감이 안잡힌다.\n",
    "아마, 노드를 통해서 빠르게 반복되는 자료들을 체크하고 제거할 수 있는 자료구조인 것 같다. 파이썬으로 치면 set를 대체할 수 있겠다."
   ]
  },
  {
   "cell_type": "code",
   "execution_count": 1,
   "metadata": {},
   "outputs": [
    {
     "name": "stdout",
     "output_type": "stream",
     "text": [
      "6\n",
      "1\n",
      "2\n",
      "2\n",
      "3\n",
      "3\n",
      "4\n",
      "1 2 3 4 "
     ]
    }
   ],
   "source": [
    "class Node:\n",
    "    def __init__(self,data):\n",
    "        self.data = data\n",
    "        self.next = None \n",
    "class Solution: \n",
    "    def insert(self,head,data):\n",
    "            p = Node(data)           \n",
    "            if head==None:\n",
    "                head=p\n",
    "            elif head.next==None:\n",
    "                head.next=p\n",
    "            else:\n",
    "                start=head\n",
    "                while(start.next!=None):\n",
    "                    start=start.next\n",
    "                start.next=p\n",
    "            return head  \n",
    "    def display(self,head):\n",
    "        current = head\n",
    "        while current:\n",
    "            print(current.data,end=' ')\n",
    "            current = current.next\n",
    "            \n",
    "    def removeDuplicates(self,head):\n",
    "            #Write your code here\n",
    "            node = head\n",
    "\n",
    "            while node:\n",
    "                if node.next:\n",
    "                    if node.data == node.next.data:\n",
    "                        node.next = node.next.next\n",
    "                        continue\n",
    "\n",
    "                node = node.next\n",
    "\n",
    "            return head\n",
    "mylist= Solution()\n",
    "T=int(input())\n",
    "head=None\n",
    "for i in range(T):\n",
    "    data=int(input())\n",
    "    head=mylist.insert(head,data)    \n",
    "head=mylist.removeDuplicates(head)\n",
    "mylist.display(head); "
   ]
  }
 ],
 "metadata": {
  "kernelspec": {
   "display_name": "Python 3",
   "language": "python",
   "name": "python3"
  },
  "language_info": {
   "codemirror_mode": {
    "name": "ipython",
    "version": 3
   },
   "file_extension": ".py",
   "mimetype": "text/x-python",
   "name": "python",
   "nbconvert_exporter": "python",
   "pygments_lexer": "ipython3",
   "version": "3.7.4"
  }
 },
 "nbformat": 4,
 "nbformat_minor": 2
}
