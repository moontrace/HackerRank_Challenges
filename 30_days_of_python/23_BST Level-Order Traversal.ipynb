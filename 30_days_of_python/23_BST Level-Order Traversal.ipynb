{
 "cells": [
  {
   "cell_type": "markdown",
   "metadata": {},
   "source": [
    "바이너리 서치 트리의\n",
    "레벨 오더 프로그래밍\n",
    "서치는 좀 더 공부가 필요한 것 같다."
   ]
  },
  {
   "cell_type": "code",
   "execution_count": 1,
   "metadata": {},
   "outputs": [
    {
     "name": "stdout",
     "output_type": "stream",
     "text": [
      "6\n",
      "3\n",
      "5\n",
      "4\n",
      "7\n",
      "2\n",
      "1\n",
      "3 2 5 1 4 7 "
     ]
    }
   ],
   "source": [
    "import sys\n",
    "\n",
    "class Node:\n",
    "    def __init__(self,data):\n",
    "        self.right=self.left=None\n",
    "        self.data = data\n",
    "class Solution:\n",
    "    def insert(self,root,data):\n",
    "        if root==None:\n",
    "            return Node(data)\n",
    "        else:\n",
    "            if data<=root.data:\n",
    "                cur=self.insert(root.left,data)\n",
    "                root.left=cur\n",
    "            else:\n",
    "                cur=self.insert(root.right,data)\n",
    "                root.right=cur\n",
    "        return root\n",
    "\n",
    "\n",
    "    def levelOrder(self,root):\n",
    "        queue = [root] if root else []\n",
    "        \n",
    "        while queue:\n",
    "            node = queue.pop()\n",
    "            print(node.data, end=\" \")\n",
    "            \n",
    "            if node.left: queue.insert(0,node.left)\n",
    "            if node.right: queue.insert(0,node.right)\n",
    "T=int(input())\n",
    "myTree=Solution()\n",
    "root=None\n",
    "for i in range(T):\n",
    "    data=int(input())\n",
    "    root=myTree.insert(root,data)\n",
    "myTree.levelOrder(root)\n"
   ]
  },
  {
   "cell_type": "code",
   "execution_count": null,
   "metadata": {},
   "outputs": [],
   "source": []
  }
 ],
 "metadata": {
  "kernelspec": {
   "display_name": "Python 3",
   "language": "python",
   "name": "python3"
  },
  "language_info": {
   "codemirror_mode": {
    "name": "ipython",
    "version": 3
   },
   "file_extension": ".py",
   "mimetype": "text/x-python",
   "name": "python",
   "nbconvert_exporter": "python",
   "pygments_lexer": "ipython3",
   "version": "3.7.4"
  }
 },
 "nbformat": 4,
 "nbformat_minor": 2
}
