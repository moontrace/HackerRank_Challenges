{
 "cells": [
  {
   "cell_type": "markdown",
   "metadata": {},
   "source": [
    "Today, we're working with Binary Search Trees (BSTs)."
   ]
  },
  {
   "cell_type": "markdown",
   "metadata": {},
   "source": [
    "2진 탐색을 배워보자!\n",
    "- 문제는 거리재기, 가장 먼 구간은?\n",
    "- 어떻게 트리가 만들어지는지..."
   ]
  },
  {
   "cell_type": "markdown",
   "metadata": {},
   "source": [
    "- 트리 구조 살펴보기\n",
    "    - 숫자의 입력 순서에 따라서 root의 오른쪽 왼쪽으로 기존 데이터와 비교하면서 분기"
   ]
  },
  {
   "cell_type": "code",
   "execution_count": 2,
   "metadata": {},
   "outputs": [],
   "source": [
    "class Node: # Node 클래스\n",
    "    def __init__(self,data):\n",
    "        self.right=self.left=None\n",
    "        self.data = data\n",
    "class Solution: # solution class (insert 살펴보기)\n",
    "    def insert(self,root,data):\n",
    "        if root==None: # root가 none 이면 Node(data) 그냥 입력\n",
    "            return Node(data)\n",
    "        else:\n",
    "            if data<=root.data: # data가 이전에 입력된 데이터(root) 보다 작거나 같으면\n",
    "                cur=self.insert(root.left,data) # 커서에 root.left 데이터를 집어 넣음(앞부터)\n",
    "                root.left=cur # 커서 데이터 집어 넣음\n",
    "            else:\n",
    "                cur=self.insert(root.right,data) # data가 입력된 데이터보다 크면\n",
    "                root.right=cur # 기존 커서 유지\n",
    "        return root"
   ]
  },
  {
   "cell_type": "code",
   "execution_count": 27,
   "metadata": {},
   "outputs": [],
   "source": [
    "# 트리에 들어가는 최대 갯수? 의미는 없음\n",
    "T = 7"
   ]
  },
  {
   "cell_type": "code",
   "execution_count": 28,
   "metadata": {},
   "outputs": [],
   "source": [
    "# 클래스 객체로 소환, root=None 초기 세팅\n",
    "myTree=Solution()\n",
    "root=None"
   ]
  },
  {
   "cell_type": "code",
   "execution_count": 29,
   "metadata": {},
   "outputs": [],
   "source": [
    "# data input 1\n",
    "data = 3\n",
    "root = myTree.insert(root, data)"
   ]
  },
  {
   "cell_type": "code",
   "execution_count": 30,
   "metadata": {},
   "outputs": [
    {
     "data": {
      "text/plain": [
       "(3, None, None)"
      ]
     },
     "execution_count": 30,
     "metadata": {},
     "output_type": "execute_result"
    }
   ],
   "source": [
    "# Node 클래스 안의 객체로 입력(data)와 라이트 레프트로 분기되어 있다.\n",
    "# 먼저 비어있는 root에 들어감\n",
    "root.data,\\\n",
    "root.right, root.left"
   ]
  },
  {
   "cell_type": "code",
   "execution_count": 31,
   "metadata": {},
   "outputs": [],
   "source": [
    "# 2번 데이터 root : 3 < data = 5\n",
    "# root.right로 들어감\n",
    "data = 5\n",
    "root = myTree.insert(root, data)"
   ]
  },
  {
   "cell_type": "code",
   "execution_count": 32,
   "metadata": {},
   "outputs": [
    {
     "data": {
      "text/plain": [
       "(3, None, 5)"
      ]
     },
     "execution_count": 32,
     "metadata": {},
     "output_type": "execute_result"
    }
   ],
   "source": [
    "root.data,\\\n",
    "root.left, root.right.data"
   ]
  },
  {
   "cell_type": "code",
   "execution_count": 33,
   "metadata": {},
   "outputs": [],
   "source": [
    "# 3번 데이터 root : 3 > data = 2\n",
    "# root.left로 들어감\n",
    "data = 2\n",
    "root = myTree.insert(root, data)"
   ]
  },
  {
   "cell_type": "code",
   "execution_count": 34,
   "metadata": {},
   "outputs": [
    {
     "data": {
      "text/plain": [
       "(3, 2, 5)"
      ]
     },
     "execution_count": 34,
     "metadata": {},
     "output_type": "execute_result"
    }
   ],
   "source": [
    "root.data,\\\n",
    "root.left.data, root.right.data"
   ]
  },
  {
   "cell_type": "code",
   "execution_count": 35,
   "metadata": {},
   "outputs": [],
   "source": [
    "# 4번 데이터 root : 3 > root.left :2 > new_data = 1\n",
    "# root.left -> root.left.left로 들어감\n",
    "data = 1\n",
    "root = myTree.insert(root, data)"
   ]
  },
  {
   "cell_type": "code",
   "execution_count": 36,
   "metadata": {},
   "outputs": [
    {
     "data": {
      "text/plain": [
       "(3, 2, 1, None)"
      ]
     },
     "execution_count": 36,
     "metadata": {},
     "output_type": "execute_result"
    }
   ],
   "source": [
    "root.data, \\\n",
    "root.left.data, \\\n",
    "root.left.left.data, root.left.right"
   ]
  },
  {
   "cell_type": "code",
   "execution_count": 37,
   "metadata": {},
   "outputs": [],
   "source": [
    "# 5번 데이터 1. root 3 > new_data = 4, 2. root.right:5 < new_data = 4\n",
    "# root right -> root.right.left로 들어감\n",
    "data = 4\n",
    "root = myTree.insert(root, data)"
   ]
  },
  {
   "cell_type": "code",
   "execution_count": 38,
   "metadata": {},
   "outputs": [
    {
     "data": {
      "text/plain": [
       "3"
      ]
     },
     "execution_count": 38,
     "metadata": {},
     "output_type": "execute_result"
    }
   ],
   "source": [
    "root.data"
   ]
  },
  {
   "cell_type": "code",
   "execution_count": 39,
   "metadata": {},
   "outputs": [
    {
     "data": {
      "text/plain": [
       "(5, 4)"
      ]
     },
     "execution_count": 39,
     "metadata": {},
     "output_type": "execute_result"
    }
   ],
   "source": [
    "# root right\n",
    "root.right.data,\\\n",
    "root.right.left.data"
   ]
  },
  {
   "cell_type": "code",
   "execution_count": 40,
   "metadata": {},
   "outputs": [],
   "source": [
    "# 6번 데이터 1. root 3 > new_data = 6, 2. root.right:5 > new_data = 6\n",
    "# root right -> \n",
    "data = 6\n",
    "root = myTree.insert(root, data)"
   ]
  },
  {
   "cell_type": "code",
   "execution_count": 41,
   "metadata": {},
   "outputs": [
    {
     "data": {
      "text/plain": [
       "(5, 4, 6)"
      ]
     },
     "execution_count": 41,
     "metadata": {},
     "output_type": "execute_result"
    }
   ],
   "source": [
    "# root right\n",
    "root.right.data,\\\n",
    "root.right.left.data, root.right.right.data,"
   ]
  },
  {
   "cell_type": "code",
   "execution_count": 42,
   "metadata": {},
   "outputs": [],
   "source": [
    "# 7번 데이터\n",
    "# 6번 데이터 root.data = 3 < new_data : 6\n",
    "data = 7\n",
    "root = myTree.insert(root, data)"
   ]
  },
  {
   "cell_type": "code",
   "execution_count": 43,
   "metadata": {},
   "outputs": [
    {
     "data": {
      "text/plain": [
       "(5, 6)"
      ]
     },
     "execution_count": 43,
     "metadata": {},
     "output_type": "execute_result"
    }
   ],
   "source": [
    "# root right\n",
    "root.right.data,\\\n",
    "root.right.right.data"
   ]
  },
  {
   "cell_type": "code",
   "execution_count": 44,
   "metadata": {},
   "outputs": [
    {
     "data": {
      "text/plain": [
       "4"
      ]
     },
     "execution_count": 44,
     "metadata": {},
     "output_type": "execute_result"
    }
   ],
   "source": [
    "# root right left\n",
    "root.right.left.data"
   ]
  },
  {
   "cell_type": "code",
   "execution_count": 45,
   "metadata": {},
   "outputs": [],
   "source": [
    "# root right right"
   ]
  },
  {
   "cell_type": "code",
   "execution_count": 46,
   "metadata": {},
   "outputs": [
    {
     "data": {
      "text/plain": [
       "(None, 7)"
      ]
     },
     "execution_count": 46,
     "metadata": {},
     "output_type": "execute_result"
    }
   ],
   "source": [
    "root.right.right.left, root.right.right.right.data"
   ]
  },
  {
   "cell_type": "code",
   "execution_count": 25,
   "metadata": {},
   "outputs": [],
   "source": [
    "class Solution: # solution class (insert 살펴보기)\n",
    "    def insert(self,root,data):\n",
    "        if root==None: # root가 none 이면 Node(data) 그냥 입력\n",
    "            return Node(data)\n",
    "        else:\n",
    "            if data<=root.data: # data가 이전에 입력된 데이터(root) 보다 작거나 같으면\n",
    "                cur=self.insert(root.left,data) # 커서에 root.left 데이터를 집어 넣음(앞부터)\n",
    "                root.left=cur # 커서 데이터 집어 넣음\n",
    "            else:\n",
    "                cur=self.insert(root.right,data) # data가 입력된 데이터보다 크면\n",
    "                root.right=cur # 기존 커서 유지\n",
    "        return root\n",
    "    \n",
    "    def getHeight(self,root):\n",
    "\n",
    "        if root:\n",
    "            leftDepth = self.getHeight(root.left)\n",
    "            rightDepth = self.getHeight(root.right)\n",
    "\n",
    "            if leftDepth > rightDepth:\n",
    "                return leftDepth + 1\n",
    "            else: \n",
    "                return rightDepth + 1\n",
    "        else:\n",
    "            return -1"
   ]
  },
  {
   "cell_type": "code",
   "execution_count": null,
   "metadata": {},
   "outputs": [],
   "source": [
    "# 2 번\n",
    "def getHeight(self,root):\n",
    "        if root:\n",
    "            leftDepth = self.getHeight(root.left)\n",
    "            rightDepth = self.getHeight(root.right)\n",
    "            return max(leftDepth,rightDepth) + 1\n",
    "        else:\n",
    "            return -1"
   ]
  },
  {
   "cell_type": "code",
   "execution_count": null,
   "metadata": {},
   "outputs": [],
   "source": [
    "# 3번\n",
    "def getHeight(self,root):\n",
    "    #Write your code here\n",
    "    if root == None:\n",
    "        return -1\n",
    "    return 1 + max(self.getHeight(root.left), self.getHeight(root.right))"
   ]
  },
  {
   "cell_type": "markdown",
   "metadata": {},
   "source": [
    "- 포인트는 재귀적으로 동작하는 구조이다.\n",
    "- left 점, right 이동 할 때 마다 1점씩 추가되는 구조이다!\n",
    "- none이 있으면 연산이 안되니까. -1을 넣어준다."
   ]
  },
  {
   "cell_type": "code",
   "execution_count": 47,
   "metadata": {},
   "outputs": [
    {
     "name": "stdout",
     "output_type": "stream",
     "text": [
      "3\n"
     ]
    }
   ],
   "source": [
    "height=myTree.getHeight(root)\n",
    "print(height)"
   ]
  }
 ],
 "metadata": {
  "kernelspec": {
   "display_name": "Python 3",
   "language": "python",
   "name": "python3"
  },
  "language_info": {
   "codemirror_mode": {
    "name": "ipython",
    "version": 3
   },
   "file_extension": ".py",
   "mimetype": "text/x-python",
   "name": "python",
   "nbconvert_exporter": "python",
   "pygments_lexer": "ipython3",
   "version": "3.7.4"
  }
 },
 "nbformat": 4,
 "nbformat_minor": 2
}
