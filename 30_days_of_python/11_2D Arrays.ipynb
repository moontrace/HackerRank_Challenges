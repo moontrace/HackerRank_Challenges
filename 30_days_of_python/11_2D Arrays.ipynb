{
 "cells": [
  {
   "cell_type": "markdown",
   "metadata": {},
   "source": [
    "Today, we're building on our knowledge of Arrays by adding another dimension.\n",
    "- 모래시계 배열을 검색해서\n",
    "- 합이 제일 높은 모래시계 배열을 찾아라.\n",
    "- 차분하게 로직을 짜보자"
   ]
  },
  {
   "cell_type": "code",
   "execution_count": null,
   "metadata": {},
   "outputs": [],
   "source": [
    "# input\n",
    "1 1 1 0 0 0\n",
    "0 1 0 0 0 0\n",
    "1 1 1 0 0 0\n",
    "0 0 0 0 0 0\n",
    "0 0 0 0 0 0\n",
    "0 0 0 0 0 0"
   ]
  },
  {
   "cell_type": "code",
   "execution_count": 5,
   "metadata": {},
   "outputs": [],
   "source": [
    "a = np.array(\n",
    "    [[1, 1, 1, 0, 0, 0],\n",
    "    [0, 1, 0, 0, 0, 0],\n",
    "    [1, 1, 1, 0, 0, 0],\n",
    "    [0, 0, 0, 0, 0, 0],\n",
    "    [0, 0, 0, 0, 0, 0],\n",
    "    [0, 0, 0, 0, 0, 0]\n",
    "    ])"
   ]
  },
  {
   "cell_type": "code",
   "execution_count": 10,
   "metadata": {},
   "outputs": [
    {
     "data": {
      "text/html": [
       "<div>\n",
       "<style scoped>\n",
       "    .dataframe tbody tr th:only-of-type {\n",
       "        vertical-align: middle;\n",
       "    }\n",
       "\n",
       "    .dataframe tbody tr th {\n",
       "        vertical-align: top;\n",
       "    }\n",
       "\n",
       "    .dataframe thead th {\n",
       "        text-align: right;\n",
       "    }\n",
       "</style>\n",
       "<table border=\"1\" class=\"dataframe\">\n",
       "  <thead>\n",
       "    <tr style=\"text-align: right;\">\n",
       "      <th></th>\n",
       "      <th>0</th>\n",
       "      <th>1</th>\n",
       "      <th>2</th>\n",
       "      <th>3</th>\n",
       "      <th>4</th>\n",
       "      <th>5</th>\n",
       "    </tr>\n",
       "  </thead>\n",
       "  <tbody>\n",
       "    <tr>\n",
       "      <th>0</th>\n",
       "      <td>1</td>\n",
       "      <td>1</td>\n",
       "      <td>1</td>\n",
       "      <td>0</td>\n",
       "      <td>0</td>\n",
       "      <td>0</td>\n",
       "    </tr>\n",
       "    <tr>\n",
       "      <th>1</th>\n",
       "      <td>0</td>\n",
       "      <td>1</td>\n",
       "      <td>0</td>\n",
       "      <td>0</td>\n",
       "      <td>0</td>\n",
       "      <td>0</td>\n",
       "    </tr>\n",
       "    <tr>\n",
       "      <th>2</th>\n",
       "      <td>1</td>\n",
       "      <td>1</td>\n",
       "      <td>1</td>\n",
       "      <td>0</td>\n",
       "      <td>0</td>\n",
       "      <td>0</td>\n",
       "    </tr>\n",
       "    <tr>\n",
       "      <th>3</th>\n",
       "      <td>0</td>\n",
       "      <td>0</td>\n",
       "      <td>0</td>\n",
       "      <td>0</td>\n",
       "      <td>0</td>\n",
       "      <td>0</td>\n",
       "    </tr>\n",
       "    <tr>\n",
       "      <th>4</th>\n",
       "      <td>0</td>\n",
       "      <td>0</td>\n",
       "      <td>0</td>\n",
       "      <td>0</td>\n",
       "      <td>0</td>\n",
       "      <td>0</td>\n",
       "    </tr>\n",
       "    <tr>\n",
       "      <th>5</th>\n",
       "      <td>0</td>\n",
       "      <td>0</td>\n",
       "      <td>0</td>\n",
       "      <td>0</td>\n",
       "      <td>0</td>\n",
       "      <td>0</td>\n",
       "    </tr>\n",
       "  </tbody>\n",
       "</table>\n",
       "</div>"
      ],
      "text/plain": [
       "   0  1  2  3  4  5\n",
       "0  1  1  1  0  0  0\n",
       "1  0  1  0  0  0  0\n",
       "2  1  1  1  0  0  0\n",
       "3  0  0  0  0  0  0\n",
       "4  0  0  0  0  0  0\n",
       "5  0  0  0  0  0  0"
      ]
     },
     "execution_count": 10,
     "metadata": {},
     "output_type": "execute_result"
    }
   ],
   "source": [
    "df = pd.DataFrame(a)\n",
    "df"
   ]
  },
  {
   "cell_type": "code",
   "execution_count": 22,
   "metadata": {},
   "outputs": [],
   "source": [
    "arr =  [\n",
    "    [1, 1, 1, 0, 0, 0],\n",
    "    [0, 1, 0, 0, 0, 0],\n",
    "    [1, 1, 1, 0, 0, 0],\n",
    "    [0, 0, 0, 0, 0, 0],\n",
    "    [0, 0, 0, 0, 0, 0],\n",
    "    [0, 0, 0, 0, 0, 0]\n",
    "    ]"
   ]
  },
  {
   "cell_type": "code",
   "execution_count": null,
   "metadata": {
    "scrolled": true
   },
   "outputs": [],
   "source": [
    "# hour glass (모래시계)\n",
    "a b c\n",
    "  d\n",
    "e f g"
   ]
  },
  {
   "cell_type": "code",
   "execution_count": 21,
   "metadata": {},
   "outputs": [
    {
     "data": {
      "text/plain": [
       "3"
      ]
     },
     "execution_count": 21,
     "metadata": {},
     "output_type": "execute_result"
    }
   ],
   "source": [
    "sum(array_list[2])"
   ]
  },
  {
   "cell_type": "code",
   "execution_count": 24,
   "metadata": {},
   "outputs": [],
   "source": [
    "# 모래시계 로직\n",
    "s = sum(arr[0][0:3]) + arr[1][1] + sum(arr[2][:3])"
   ]
  },
  {
   "cell_type": "code",
   "execution_count": 25,
   "metadata": {},
   "outputs": [
    {
     "data": {
      "text/plain": [
       "7"
      ]
     },
     "execution_count": 25,
     "metadata": {},
     "output_type": "execute_result"
    }
   ],
   "source": [
    "s"
   ]
  },
  {
   "cell_type": "code",
   "execution_count": 31,
   "metadata": {},
   "outputs": [],
   "source": [
    "result = []\n",
    "for y in range(0,4):\n",
    "    for x in range(0,4):\n",
    "        s = sum(arr[x][y:y+3]) + arr[x+1][y+1] + sum(arr[x+2][y:y+3])\n",
    "        result.append(s)"
   ]
  },
  {
   "cell_type": "code",
   "execution_count": 32,
   "metadata": {},
   "outputs": [
    {
     "data": {
      "text/plain": [
       "[7, 2, 3, 0, 4, 2, 2, 0, 2, 0, 1, 0, 0, 0, 0, 0]"
      ]
     },
     "execution_count": 32,
     "metadata": {},
     "output_type": "execute_result"
    }
   ],
   "source": [
    "result"
   ]
  },
  {
   "cell_type": "code",
   "execution_count": 33,
   "metadata": {},
   "outputs": [
    {
     "data": {
      "text/plain": [
       "7"
      ]
     },
     "execution_count": 33,
     "metadata": {},
     "output_type": "execute_result"
    }
   ],
   "source": [
    "max(result)"
   ]
  },
  {
   "cell_type": "code",
   "execution_count": null,
   "metadata": {},
   "outputs": [],
   "source": [
    "# sample\n",
    "1 1 1 0 0 0\n",
    "0 1 0 0 0 0\n",
    "1 1 1 0 0 0\n",
    "0 0 2 4 4 0\n",
    "0 0 0 2 0 0\n",
    "0 0 1 2 4 0"
   ]
  },
  {
   "cell_type": "code",
   "execution_count": null,
   "metadata": {},
   "outputs": [],
   "source": [
    "# output\n",
    "19"
   ]
  },
  {
   "cell_type": "code",
   "execution_count": null,
   "metadata": {},
   "outputs": [],
   "source": [
    "# sample explain\n",
    "1 1 1   1 1 0   1 0 0   0 0 0\n",
    "  1       0       0       0\n",
    "1 1 1   1 1 0   1 0 0   0 0 0\n",
    "\n",
    "0 1 0   1 0 0   0 0 0   0 0 0\n",
    "  1       1       0       0\n",
    "0 0 2   0 2 4   2 4 4   4 4 0\n",
    "\n",
    "1 1 1   1 1 0   1 0 0   0 0 0\n",
    "  0       2       4       4\n",
    "0 0 0   0 0 2   0 2 0   2 0 0\n",
    "\n",
    "0 0 2   0 2 4   2 4 4   4 4 0\n",
    "  0       0       2       0\n",
    "0 0 1   0 1 2   1 2 4   2 4 0"
   ]
  },
  {
   "cell_type": "code",
   "execution_count": null,
   "metadata": {},
   "outputs": [],
   "source": [
    "# max number (sum)\n",
    "2 4 4\n",
    "  2\n",
    "1 2 4\n",
    "19"
   ]
  },
  {
   "cell_type": "markdown",
   "metadata": {},
   "source": [
    "풀어보기"
   ]
  },
  {
   "cell_type": "code",
   "execution_count": 35,
   "metadata": {},
   "outputs": [
    {
     "name": "stdout",
     "output_type": "stream",
     "text": [
      "1 1 1 0 0 0\n",
      "0 1 0 0 0 0\n",
      "1 1 1 0 0 0\n",
      "0 0 2 4 4 0\n",
      "0 0 0 2 0 0\n",
      "0 0 1 2 4 0\n",
      "19\n"
     ]
    }
   ],
   "source": [
    "if __name__ == '__main__':\n",
    "    arr = []\n",
    "\n",
    "    for _ in range(6):\n",
    "        arr.append(list(map(int, input().rstrip().split())))\n",
    "\n",
    "result = []\n",
    "for y in range(0,4):\n",
    "    for x in range(0,4):\n",
    "        s = sum(arr[x][y:y+3]) + arr[x+1][y+1] + sum(arr[x+2][y:y+3])\n",
    "        result.append(s)\n",
    "print(max(result))"
   ]
  },
  {
   "cell_type": "code",
   "execution_count": null,
   "metadata": {},
   "outputs": [],
   "source": [
    "1 1 1 0 0 0\n",
    "0 1 0 0 0 0\n",
    "1 1 1 0 0 0\n",
    "0 0 2 4 4 0\n",
    "0 0 0 2 0 0\n",
    "0 0 1 2 4 0"
   ]
  },
  {
   "cell_type": "markdown",
   "metadata": {},
   "source": [
    "### 추가 아이디어\n",
    "---\n",
    "1D 벡터로 연산하는 아이디어다. i%6이 4를 넘지 않는다는 아이디어가 마음에 든다.\n",
    "단, input을 한번에 넣어줘야한다..."
   ]
  },
  {
   "cell_type": "code",
   "execution_count": 3,
   "metadata": {},
   "outputs": [
    {
     "name": "stdout",
     "output_type": "stream",
     "text": [
      "1 1 1 0 0 0 0 1 0 0 0 0 1 1 1 0 0 0 0 0 2 4 4 0 0 0 0 2 0 0 0 0 1 2 4 0\n",
      "19\n"
     ]
    }
   ],
   "source": [
    "a = [*map(int, input().split())] # 1d array\n",
    "print(max([\n",
    "    sum([a[i+k] for k in (0,1,2,7,12,13,14)]) # 1d hour glass\n",
    "    for i in range(0,22) if i%6 < 4])) # 4x4 positions"
   ]
  }
 ],
 "metadata": {
  "kernelspec": {
   "display_name": "Python 3",
   "language": "python",
   "name": "python3"
  },
  "language_info": {
   "codemirror_mode": {
    "name": "ipython",
    "version": 3
   },
   "file_extension": ".py",
   "mimetype": "text/x-python",
   "name": "python",
   "nbconvert_exporter": "python",
   "pygments_lexer": "ipython3",
   "version": "3.7.4"
  }
 },
 "nbformat": 4,
 "nbformat_minor": 2
}
