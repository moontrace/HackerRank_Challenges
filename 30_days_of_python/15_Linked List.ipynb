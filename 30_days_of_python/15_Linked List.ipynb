{
 "cells": [
  {
   "cell_type": "markdown",
   "metadata": {},
   "source": [
    "Today we're working with Linked Lists. "
   ]
  },
  {
   "cell_type": "markdown",
   "metadata": {},
   "source": [
    "클래스로 연결된 리스트라고 해야하나? 조금은 난해함\n",
    "모르는 개념이라서 참고했다.\n",
    "https://wayhome25.github.io/cs/2017/04/17/cs-19/\n",
    "\n",
    "https://opentutorials.org/module/1335/8821"
   ]
  },
  {
   "cell_type": "code",
   "execution_count": 14,
   "metadata": {},
   "outputs": [
    {
     "name": "stdout",
     "output_type": "stream",
     "text": [
      "4\n",
      "1\n",
      "2\n",
      "3\n",
      "4\n",
      "1 2 3 4 "
     ]
    }
   ],
   "source": [
    "# basic\n",
    "class Node:\n",
    "    def __init__(self,data):\n",
    "        self.data = data\n",
    "        self.next = None \n",
    "class Solution: \n",
    "    def display(self,head):\n",
    "        current = head # 보여주는 것은 자료의 첫번째\n",
    "        while current:\n",
    "            print(current.data,end=' ') # 자료의 모든 것을 보여준다.\n",
    "            current = current.next\n",
    "# my code            \n",
    "    def insert(self,head,data):\n",
    "        if (head == None): # 입력값 헤드가 비어있으면\n",
    "            head = Node(data) # 뒤에 있는 데이터를 입력값으로 head에 넣는다\n",
    "        elif (head.next == None): # 헤드의 넥스트가 비어있으면\n",
    "            head.next = Node(data) # 헤드의 넥스트트에 데이터 값을 넣는다.\n",
    "        else: \n",
    "            self.insert(head.next, data) # 뒤 두개가 아닌 상황이면, 헤드의 넥스트, 데이터 선으로 입력을 넣고 반복\n",
    "        return head # head 값만 리천한다.\n",
    "    \n",
    "# ouput\n",
    "mylist= Solution()\n",
    "T = int(input())\n",
    "head = None\n",
    "for i in range(T):\n",
    "    data = int(input()) # 데이터를 입력값을 넣고\n",
    "    head = mylist.insert(head,data) # 헤드값만 출력\n",
    "mylist.display(head)"
   ]
  },
  {
   "cell_type": "code",
   "execution_count": 28,
   "metadata": {},
   "outputs": [],
   "source": [
    "ml = Solution()"
   ]
  },
  {
   "cell_type": "code",
   "execution_count": 39,
   "metadata": {},
   "outputs": [],
   "source": [
    "test = None"
   ]
  },
  {
   "cell_type": "code",
   "execution_count": 41,
   "metadata": {},
   "outputs": [
    {
     "data": {
      "text/plain": [
       "<__main__.Node at 0x13392876808>"
      ]
     },
     "execution_count": 41,
     "metadata": {},
     "output_type": "execute_result"
    }
   ],
   "source": [
    "test = ml.insert(test, 1)\n",
    "test"
   ]
  },
  {
   "cell_type": "code",
   "execution_count": 45,
   "metadata": {},
   "outputs": [
    {
     "data": {
      "text/plain": [
       "<__main__.Node at 0x13392876808>"
      ]
     },
     "execution_count": 45,
     "metadata": {},
     "output_type": "execute_result"
    }
   ],
   "source": [
    "ml.insert(test, 2)"
   ]
  },
  {
   "cell_type": "code",
   "execution_count": 46,
   "metadata": {},
   "outputs": [
    {
     "name": "stdout",
     "output_type": "stream",
     "text": [
      "1 1 2 "
     ]
    }
   ],
   "source": [
    "ml.display(test)"
   ]
  },
  {
   "cell_type": "code",
   "execution_count": 53,
   "metadata": {},
   "outputs": [
    {
     "data": {
      "text/plain": [
       "2"
      ]
     },
     "execution_count": 53,
     "metadata": {},
     "output_type": "execute_result"
    }
   ],
   "source": [
    "node = Node(2)\n",
    "node.data"
   ]
  },
  {
   "cell_type": "code",
   "execution_count": 54,
   "metadata": {},
   "outputs": [],
   "source": [
    "node.next"
   ]
  },
  {
   "cell_type": "markdown",
   "metadata": {},
   "source": [
    "따라해보기"
   ]
  },
  {
   "cell_type": "code",
   "execution_count": 4,
   "metadata": {},
   "outputs": [],
   "source": [
    "# Node 클래스 정의\n",
    "class Node:\n",
    "    def __init__(self, data):\n",
    "        self.data = data\n",
    "        self.next = None\n",
    "\n",
    "\n",
    "# LinkedList 클래스 (자료구조) 정의\n",
    "class LinkedList:\n",
    "\n",
    "    # 초기화 메소드\n",
    "    def __init__(self):\n",
    "        dummy = Node(\"dummy\")\n",
    "        self.head = dummy\n",
    "        self.tail = dummy\n",
    "\n",
    "        self.current = None\n",
    "        self.before = None\n",
    "\n",
    "        self.num_of_data = 0\n",
    "\n",
    "    # append 메소드 (insert - 맨 뒤에 노드 추가, tail과 node의 next, 데이터 개수 변경)\n",
    "    def append(self, data):\n",
    "        new_node = Node(data)\n",
    "        self.tail.next = new_node\n",
    "        self.tail = new_node\n",
    "\n",
    "        self.num_of_data += 1\n",
    "\n",
    "    # delete 메소드 (delete - current 노드 삭제, 인접 노드의 current, next 변경, 데이터 개수 변경)\n",
    "    def delete(self):\n",
    "        pop_data = self.current.data\n",
    "\n",
    "        if self.current is self.tail: # 맨 뒤에 있다면\n",
    "            self.tail = self.before # 꼬리에 이전을 넣고\n",
    "\n",
    "        self.before.next = self.current.next # 꼬리의 다음에 현재를 넣고\n",
    "        self.current = self.before # 중요 : current가 next가 아닌 before로 변경된다.\n",
    "        #\n",
    "\n",
    "        self.num_of_data -= 1 # 전체 숫자를 줄여주고\n",
    "\n",
    "        return pop_data # 값을 리턴\n",
    "\n",
    "    # first 메소드 (search1 - 맨 앞의 노드 검색, before, current 변경)\n",
    "    def first(self):\n",
    "        if self.num_of_data == 0: # 데이터가 없는 경우 첫번째 노드도 없기 때문에 None 리턴\n",
    "            return None\n",
    "\n",
    "        self.before = self.head # 헤드에 데이터를 넣고\n",
    "        self.current = self.head.next # 현재에 헤드의 다음을 넣고\n",
    "\n",
    "        return self.current.data # 현재에 데이터를 넣는다\n",
    "\n",
    "    # next 메소드 (search2 - current 노드의 다음 노드 검색, 이전에 first 메소드가 한번은 실행되어야 함)\n",
    "    def next(self):\n",
    "        if self.current.next == None:\n",
    "            return None\n",
    "\n",
    "        self.before = self.current\n",
    "        self.current = self.current.next\n",
    "\n",
    "        return self.current.data\n",
    "\n",
    "    def size(self):\n",
    "        return self.num_of_data"
   ]
  },
  {
   "cell_type": "markdown",
   "metadata": {},
   "source": [
    "### 테스트"
   ]
  },
  {
   "cell_type": "code",
   "execution_count": 11,
   "metadata": {},
   "outputs": [],
   "source": [
    "l_list = LinkedList()\n",
    "l_list.append(5)\n",
    "l_list.append(2)\n",
    "l_list.append(1)\n",
    "l_list.append(2)\n",
    "l_list.append(7)\n",
    "l_list.append(2)\n",
    "l_list.append(11)"
   ]
  },
  {
   "cell_type": "code",
   "execution_count": 13,
   "metadata": {},
   "outputs": [
    {
     "name": "stdout",
     "output_type": "stream",
     "text": [
      "first : 5\n",
      "next : 2\n",
      "size : 7\n",
      "delete : 2\n",
      "size : 6\n",
      "current: 5\n",
      "tail: 11\n",
      "first : 5\n",
      "next : 1\n",
      "next : 2\n",
      "next : 7\n"
     ]
    }
   ],
   "source": [
    "print('first :', l_list.first())      # first : 5\n",
    "print('next :', l_list.next())        # next : 2\n",
    "print('size :', l_list.size())        # size : 7\n",
    "print('delete :', l_list.delete())    # delete : 2\n",
    "print('size :', l_list.size())        # size : 6\n",
    "print('current:', l_list.current.data)# current: 5\n",
    "print('tail:', l_list.tail.data)      # tail: 11\n",
    "print('first :', l_list.first())      # first : 5\n",
    "print('next :', l_list.next())        # next : 1\n",
    "print('next :', l_list.next())        # next : 2\n",
    "print('next :', l_list.next())        # next : 7"
   ]
  },
  {
   "cell_type": "code",
   "execution_count": 14,
   "metadata": {},
   "outputs": [
    {
     "name": "stdout",
     "output_type": "stream",
     "text": [
      "5 1 2 7 2 11 "
     ]
    }
   ],
   "source": [
    "data = l_list.first()\n",
    "\n",
    "if data:\n",
    "    print(data, end=' ')\n",
    "    while True:\n",
    "        data = l_list.next()\n",
    "        if data:\n",
    "            print(data, end= ' ')\n",
    "        else:\n",
    "            break\n",
    "# 5 1 2 7 2 11"
   ]
  },
  {
   "cell_type": "code",
   "execution_count": 15,
   "metadata": {},
   "outputs": [
    {
     "name": "stdout",
     "output_type": "stream",
     "text": [
      "5 1 deleted 7 deleted 11 "
     ]
    }
   ],
   "source": [
    "# 2만 삭제하기\n",
    "data = l_list.first()\n",
    "\n",
    "if data and data == 2:\n",
    "    l_list.delete()\n",
    "    print('deleted', end=' ')\n",
    "else:\n",
    "    print(data, end= ' ')\n",
    "\n",
    "while True:\n",
    "    data = l_list.next()\n",
    "    if data == 2:\n",
    "        l_list.delete()\n",
    "        print('deleted', end=' ')\n",
    "    elif data:\n",
    "        print(data, end=' ')\n",
    "    else:\n",
    "        break\n",
    "\n",
    "# 5 1 deleted 7 deleted 11"
   ]
  },
  {
   "cell_type": "code",
   "execution_count": null,
   "metadata": {},
   "outputs": [],
   "source": []
  }
 ],
 "metadata": {
  "kernelspec": {
   "display_name": "Python 3",
   "language": "python",
   "name": "python3"
  }
 },
 "nbformat": 4,
 "nbformat_minor": 2
}
