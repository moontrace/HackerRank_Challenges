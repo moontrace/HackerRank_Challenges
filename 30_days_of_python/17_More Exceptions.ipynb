{
 "cells": [
  {
   "cell_type": "markdown",
   "metadata": {},
   "source": [
    "In today's challenge, you're going to practice throwing and propagating an exception. "
   ]
  },
  {
   "cell_type": "markdown",
   "metadata": {},
   "source": [
    "Do not use an access modifier (e.g.: public) in the declaration for your Calculator class."
   ]
  },
  {
   "cell_type": "markdown",
   "metadata": {},
   "source": [
    "keyword : `raise`\n",
    "강제로 오류 발생시키는 코드!"
   ]
  },
  {
   "cell_type": "code",
   "execution_count": null,
   "metadata": {},
   "outputs": [],
   "source": [
    "4\n",
    "3 5\n",
    "2 4\n",
    "-1 -2\n",
    "-1 3"
   ]
  },
  {
   "cell_type": "code",
   "execution_count": null,
   "metadata": {},
   "outputs": [],
   "source": [
    "243\n",
    "16\n",
    "n and p should be non-negative\n",
    "n and p should be non-negative"
   ]
  },
  {
   "cell_type": "code",
   "execution_count": 3,
   "metadata": {},
   "outputs": [],
   "source": [
    "#Write your code here\n",
    "class Calculator:\n",
    "        \n",
    "        \n",
    "    def power(self, n, p):\n",
    "        self.n = n\n",
    "        self.p = p\n",
    "        if n >= 0 and p >= 0:\n",
    "            return n ** p\n",
    "        \n",
    "        else:\n",
    "            raise Exception(\"n and p should be non-negative\")"
   ]
  },
  {
   "cell_type": "code",
   "execution_count": 4,
   "metadata": {},
   "outputs": [
    {
     "name": "stdout",
     "output_type": "stream",
     "text": [
      "4\n",
      "2 3\n",
      "8\n",
      "4 3\n",
      "64\n",
      "-1 -2\n",
      "n and p should be non-negative\n",
      "-1 3\n",
      "n and p should be non-negative\n"
     ]
    }
   ],
   "source": [
    "myCalculator=Calculator()\n",
    "T=int(input())\n",
    "for i in range(T):\n",
    "    n,p = map(int, input().split())\n",
    "    try:\n",
    "        ans=myCalculator.power(n,p)\n",
    "        print(ans)\n",
    "    except Exception as e:\n",
    "        print(e)   "
   ]
  },
  {
   "cell_type": "markdown",
   "metadata": {},
   "source": [
    "### 다른 방법들"
   ]
  },
  {
   "cell_type": "code",
   "execution_count": 7,
   "metadata": {},
   "outputs": [],
   "source": [
    "class e(Exception):\n",
    "    def __init__(self):\n",
    "        Exception.__init__(self,\"n and p should be non-negative\")\n",
    "\n",
    "class Calculator:\n",
    "    def power(self,n,p):\n",
    "        if  n < 0 or p < 0:\n",
    "            raise e\n",
    "        else:\n",
    "            return n**p"
   ]
  },
  {
   "cell_type": "code",
   "execution_count": 6,
   "metadata": {},
   "outputs": [
    {
     "name": "stdout",
     "output_type": "stream",
     "text": [
      "4\n",
      "2 3 \n",
      "8\n",
      "4 3\n",
      "64\n",
      "-1 -2\n",
      "n and p should be non-negative\n",
      "-1 -3\n",
      "n and p should be non-negative\n"
     ]
    }
   ],
   "source": [
    "myCalculator=Calculator()\n",
    "T=int(input())\n",
    "for i in range(T):\n",
    "    n,p = map(int, input().split())\n",
    "    try:\n",
    "        ans=myCalculator.power(n,p)\n",
    "        print(ans)\n",
    "    except Exception as e:\n",
    "        print(e)   "
   ]
  },
  {
   "cell_type": "markdown",
   "metadata": {},
   "source": [
    "custom exception을 사용하는 방법이다.\n",
    "self.n, self.p를 쓸 필요가 없다는 것을 알았다."
   ]
  },
  {
   "cell_type": "code",
   "execution_count": 8,
   "metadata": {},
   "outputs": [],
   "source": [
    "class Calculator(object):\n",
    "    def __init__(self):\n",
    "        self.object = object\n",
    "    def power(self, a,b):\n",
    "        self.a = a\n",
    "        self.b = b\n",
    "        if a >= 0 and b >= 0:\n",
    "            return (a**b)\n",
    "        else:\n",
    "            raise Exception(\"n and p should be non-negative\")"
   ]
  },
  {
   "cell_type": "code",
   "execution_count": 9,
   "metadata": {},
   "outputs": [
    {
     "name": "stdout",
     "output_type": "stream",
     "text": [
      "2\n",
      "3 4\n",
      "81\n",
      "-1 -1\n",
      "n and p should be non-negative\n"
     ]
    }
   ],
   "source": [
    "myCalculator=Calculator()\n",
    "T=int(input())\n",
    "for i in range(T):\n",
    "    n,p = map(int, input().split())\n",
    "    try:\n",
    "        ans=myCalculator.power(n,p)\n",
    "        print(ans)\n",
    "    except Exception as e:\n",
    "        print(e)   "
   ]
  }
 ],
 "metadata": {
  "kernelspec": {
   "display_name": "Python 3",
   "language": "python",
   "name": "python3"
  },
  "language_info": {
   "codemirror_mode": {
    "name": "ipython",
    "version": 3
   },
   "file_extension": ".py",
   "mimetype": "text/x-python",
   "name": "python",
   "nbconvert_exporter": "python",
   "pygments_lexer": "ipython3",
   "version": "3.7.4"
  }
 },
 "nbformat": 4,
 "nbformat_minor": 2
}
