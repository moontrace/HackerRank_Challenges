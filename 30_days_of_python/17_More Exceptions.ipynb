{
 "cells": [
  {
   "cell_type": "markdown",
   "metadata": {},
   "source": [
    "In today's challenge, you're going to practice throwing and propagating an exception. "
   ]
  },
  {
   "cell_type": "markdown",
   "metadata": {},
   "source": [
    "Do not use an access modifier (e.g.: public) in the declaration for your Calculator class."
   ]
  },
  {
   "cell_type": "code",
   "execution_count": null,
   "metadata": {},
   "outputs": [],
   "source": [
    "4\n",
    "3 5\n",
    "2 4\n",
    "-1 -2\n",
    "-1 3"
   ]
  },
  {
   "cell_type": "code",
   "execution_count": null,
   "metadata": {},
   "outputs": [],
   "source": [
    "243\n",
    "16\n",
    "n and p should be non-negative\n",
    "n and p should be non-negative"
   ]
  },
  {
   "cell_type": "code",
   "execution_count": 3,
   "metadata": {},
   "outputs": [],
   "source": [
    "#Write your code here\n",
    "class Calculator:\n",
    "        \n",
    "        \n",
    "    def power(self, n, p):\n",
    "        self.n = n\n",
    "        self.p = p\n",
    "        if n >= 0 and p >= 0:\n",
    "            return n ** p\n",
    "        \n",
    "        else:\n",
    "            raise Exception(\"n and p should be non-negative\")"
   ]
  },
  {
   "cell_type": "code",
   "execution_count": 4,
   "metadata": {},
   "outputs": [
    {
     "name": "stdout",
     "output_type": "stream",
     "text": [
      "4\n",
      "2 3\n",
      "8\n",
      "4 3\n",
      "64\n",
      "-1 -2\n",
      "n and p should be non-negative\n",
      "-1 3\n",
      "n and p should be non-negative\n"
     ]
    }
   ],
   "source": [
    "myCalculator=Calculator()\n",
    "T=int(input())\n",
    "for i in range(T):\n",
    "    n,p = map(int, input().split())\n",
    "    try:\n",
    "        ans=myCalculator.power(n,p)\n",
    "        print(ans)\n",
    "    except Exception as e:\n",
    "        print(e)   "
   ]
  },
  {
   "cell_type": "code",
   "execution_count": null,
   "metadata": {},
   "outputs": [],
   "source": []
  }
 ],
 "metadata": {
  "kernelspec": {
   "display_name": "Python 3",
   "language": "python",
   "name": "python3"
  },
  "language_info": {
   "codemirror_mode": {
    "name": "ipython",
    "version": 3
   },
   "file_extension": ".py",
   "mimetype": "text/x-python",
   "name": "python",
   "nbconvert_exporter": "python",
   "pygments_lexer": "ipython3",
   "version": "3.7.4"
  }
 },
 "nbformat": 4,
 "nbformat_minor": 2
}
