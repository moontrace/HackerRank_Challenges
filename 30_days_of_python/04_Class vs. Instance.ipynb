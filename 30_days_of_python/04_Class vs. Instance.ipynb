{
 "cells": [
  {
   "cell_type": "markdown",
   "metadata": {},
   "source": [
    "### 04 클래스\n",
    "---\n",
    "클래스의 경우 변수가 입력부에 종속되어 있다.\n",
    "뭔가 창의 적인 활용은 어렵고 원래 있던 함수들을 하나로 묶어서 사용한다는 개념이 더 편하지 않을까 한다.\n",
    "이렇게 상호 작용하는 클래스는 아직 내 수준에서 완벽하게 구현하기는 어려울 것 같다. 대신 클래스의 구조를 다시 한번 살펴보고자 한다.\n",
    "\n",
    "- 배운점 1 : 오히려 input 부분의 코딩이 훨씬 아름답다고 생각한다.\n",
    "- 배운점 2 : self.age를 클래스의 객체로 선언하고 이니셜 에이지를 입력값으로 받는 부분\n",
    "- 배운점 3: yearpass 부분에서 글로벌로 선언된 변수 age의 값이 지속적으로 유지된다는 아이디어.\n",
    "\n",
    "클래스의 사용 목적 : In this challenge, we're going to learn about the difference between a class and an instance\n",
    "\n",
    "[링크를 살펴봐도 잘 모르겠다](https://gmlwjd9405.github.io/2018/09/17/class-object-instance.html)"
   ]
  },
  {
   "cell_type": "code",
   "execution_count": 2,
   "metadata": {},
   "outputs": [
    {
     "name": "stdout",
     "output_type": "stream",
     "text": [
      "4\n",
      "-1\n",
      "Age is not valid, setting age to 0.\n",
      "You are young.\n",
      " p.amIOld() 이 함수가 실행됩니다 : None\n",
      "You are young.\n",
      "p.yearPasses() 객체가 실행 됩니다. 3번 : None\n",
      "p.yearPasses() 객체가 실행 됩니다. 3번 : None\n",
      "p.yearPasses() 객체가 실행 됩니다. 3번 : None\n",
      "You are young.\n",
      "You are young.\n",
      "p.amIOld()가 실행됩니다 : None\n",
      "\n",
      "10\n",
      "You are young.\n",
      " p.amIOld() 이 함수가 실행됩니다 : None\n",
      "You are young.\n",
      "p.yearPasses() 객체가 실행 됩니다. 3번 : None\n",
      "p.yearPasses() 객체가 실행 됩니다. 3번 : None\n",
      "p.yearPasses() 객체가 실행 됩니다. 3번 : None\n",
      "You are a teenager.\n",
      "You are a teenager.\n",
      "p.amIOld()가 실행됩니다 : None\n",
      "\n",
      "16\n",
      "You are a teenager.\n",
      " p.amIOld() 이 함수가 실행됩니다 : None\n",
      "You are a teenager.\n",
      "p.yearPasses() 객체가 실행 됩니다. 3번 : None\n",
      "p.yearPasses() 객체가 실행 됩니다. 3번 : None\n",
      "p.yearPasses() 객체가 실행 됩니다. 3번 : None\n",
      "You are old.\n",
      "You are old.\n",
      "p.amIOld()가 실행됩니다 : None\n",
      "\n",
      "16\n",
      "You are a teenager.\n",
      " p.amIOld() 이 함수가 실행됩니다 : None\n",
      "You are a teenager.\n",
      "p.yearPasses() 객체가 실행 됩니다. 3번 : None\n",
      "p.yearPasses() 객체가 실행 됩니다. 3번 : None\n",
      "p.yearPasses() 객체가 실행 됩니다. 3번 : None\n",
      "You are old.\n",
      "You are old.\n",
      "p.amIOld()가 실행됩니다 : None\n",
      "\n"
     ]
    }
   ],
   "source": [
    "class Person:\n",
    "    def __init__(self,initialAge):\n",
    "        # Add some more code to run some checks on initialAge\n",
    "        self.age = 0\n",
    "        if initialAge < 0:\n",
    "            print(\"Age is not valid, setting age to 0.\")\n",
    "        \n",
    "        else:\n",
    "            self.age = initialAge\n",
    "\n",
    "\n",
    "    def amIOld(self):\n",
    "        # Do some computations in here and print out the correct statement to the console\n",
    "        if age < 13:\n",
    "            print(\"You are young.\")\n",
    "        elif 13 <= age < 18:\n",
    "            print(\"You are a teenager.\")\n",
    "        else:\n",
    "            print(\"You are old.\")\n",
    "\n",
    "    def yearPasses(self):\n",
    "        # Increment the age of the person in here\n",
    "        global age\n",
    "        age += 1\n",
    "\n",
    "t = int(input())\n",
    "for i in range(0, t):\n",
    "    age = int(input())         \n",
    "    p = Person(age)\n",
    "    print(f' p.amIOld() 이 함수가 실행됩니다 : {p.amIOld()}')\n",
    "    p.amIOld()\n",
    "    for j in range(0, 3):\n",
    "        print(f'p.yearPasses() 객체가 실행 됩니다. 3번 : {p.yearPasses()}')\n",
    "        p.yearPasses()       \n",
    "    p.amIOld()\n",
    "    print(f'p.amIOld()가 실행됩니다 : {p.amIOld()}')\n",
    "    print(\"\")"
   ]
  },
  {
   "cell_type": "markdown",
   "metadata": {},
   "source": [
    "4 \\\n",
    "-1 \\\n",
    "10 \\\n",
    "16 \\\n",
    "16"
   ]
  },
  {
   "cell_type": "code",
   "execution_count": null,
   "metadata": {},
   "outputs": [],
   "source": []
  }
 ],
 "metadata": {
  "kernelspec": {
   "display_name": "Python 3",
   "language": "python",
   "name": "python3"
  },
  "language_info": {
   "codemirror_mode": {
    "name": "ipython",
    "version": 3
   },
   "file_extension": ".py",
   "mimetype": "text/x-python",
   "name": "python",
   "nbconvert_exporter": "python",
   "pygments_lexer": "ipython3",
   "version": "3.7.4"
  }
 },
 "nbformat": 4,
 "nbformat_minor": 2
}
