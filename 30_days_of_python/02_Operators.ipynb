{
 "cells": [
  {
   "cell_type": "markdown",
   "metadata": {},
   "source": [
    "### Operators\n",
    "Task\n",
    "Given the meal price (base cost of a meal), tip percent (the percentage of the meal price being added as tip), and tax percent (the percentage of the meal price being added as tax) for a meal, find and print the meal's total cost.\n",
    "\n",
    "Note: Be sure to use precise values for your calculations, or you may end up with an incorrectly rounded result!"
   ]
  },
  {
   "cell_type": "code",
   "execution_count": null,
   "metadata": {},
   "outputs": [],
   "source": [
    "sys"
   ]
  },
  {
   "cell_type": "code",
   "execution_count": 31,
   "metadata": {},
   "outputs": [],
   "source": [
    "m = 12.00\n",
    "t = 20\n",
    "x = 8"
   ]
  },
  {
   "cell_type": "markdown",
   "metadata": {},
   "source": [
    "### 연산은 너무 쉽당"
   ]
  },
  {
   "cell_type": "code",
   "execution_count": 32,
   "metadata": {},
   "outputs": [],
   "source": [
    "def cal(m, t, x):\n",
    "    return print(round(m+(m * t * 1/100) + (m * x * 1/100)))"
   ]
  },
  {
   "cell_type": "code",
   "execution_count": 33,
   "metadata": {},
   "outputs": [
    {
     "name": "stdout",
     "output_type": "stream",
     "text": [
      "15\n"
     ]
    }
   ],
   "source": [
    "cal(m, t, x)"
   ]
  },
  {
   "cell_type": "code",
   "execution_count": 34,
   "metadata": {},
   "outputs": [
    {
     "name": "stdout",
     "output_type": "stream",
     "text": [
      "\n"
     ]
    },
    {
     "ename": "ValueError",
     "evalue": "could not convert string to float: ",
     "output_type": "error",
     "traceback": [
      "\u001b[1;31m---------------------------------------------------------------------------\u001b[0m",
      "\u001b[1;31mValueError\u001b[0m                                Traceback (most recent call last)",
      "\u001b[1;32m<ipython-input-34-1b44494e91d9>\u001b[0m in \u001b[0;36m<module>\u001b[1;34m\u001b[0m\n\u001b[0;32m      3\u001b[0m     \u001b[1;32mreturn\u001b[0m \u001b[0mprint\u001b[0m\u001b[1;33m(\u001b[0m\u001b[0mround\u001b[0m\u001b[1;33m(\u001b[0m\u001b[0mmeal_cost\u001b[0m\u001b[1;33m+\u001b[0m\u001b[1;33m(\u001b[0m\u001b[0mmeal_cost\u001b[0m \u001b[1;33m*\u001b[0m \u001b[0mtip_percent\u001b[0m \u001b[1;33m*\u001b[0m \u001b[1;36m1\u001b[0m\u001b[1;33m/\u001b[0m\u001b[1;36m100\u001b[0m\u001b[1;33m)\u001b[0m \u001b[1;33m+\u001b[0m \u001b[1;33m(\u001b[0m\u001b[0mmeal_cost\u001b[0m \u001b[1;33m*\u001b[0m \u001b[0mtax_percent\u001b[0m \u001b[1;33m*\u001b[0m \u001b[1;36m1\u001b[0m\u001b[1;33m/\u001b[0m\u001b[1;36m100\u001b[0m\u001b[1;33m)\u001b[0m\u001b[1;33m)\u001b[0m\u001b[1;33m)\u001b[0m\u001b[1;33m\u001b[0m\u001b[1;33m\u001b[0m\u001b[0m\n\u001b[0;32m      4\u001b[0m \u001b[1;32mif\u001b[0m \u001b[0m__name__\u001b[0m \u001b[1;33m==\u001b[0m \u001b[1;34m'__main__'\u001b[0m \u001b[1;33m:\u001b[0m\u001b[1;33m\u001b[0m\u001b[1;33m\u001b[0m\u001b[0m\n\u001b[1;32m----> 5\u001b[1;33m     \u001b[0mmeal_cost\u001b[0m \u001b[1;33m=\u001b[0m \u001b[0mfloat\u001b[0m\u001b[1;33m(\u001b[0m\u001b[0minput\u001b[0m\u001b[1;33m(\u001b[0m\u001b[1;33m)\u001b[0m\u001b[1;33m)\u001b[0m\u001b[1;33m\u001b[0m\u001b[1;33m\u001b[0m\u001b[0m\n\u001b[0m\u001b[0;32m      6\u001b[0m \u001b[1;33m\u001b[0m\u001b[0m\n\u001b[0;32m      7\u001b[0m     \u001b[0mtip_percent\u001b[0m \u001b[1;33m=\u001b[0m \u001b[0mint\u001b[0m\u001b[1;33m(\u001b[0m\u001b[0minput\u001b[0m\u001b[1;33m(\u001b[0m\u001b[1;33m)\u001b[0m\u001b[1;33m)\u001b[0m\u001b[1;33m\u001b[0m\u001b[1;33m\u001b[0m\u001b[0m\n",
      "\u001b[1;31mValueError\u001b[0m: could not convert string to float: "
     ]
    }
   ],
   "source": [
    "# 제출 코드\n",
    "def solve(meal_cost, tip_percent, tax_percent):\n",
    "    return print(round(meal_cost+(meal_cost * tip_percent * 1/100) + (meal_cost * tax_percent * 1/100)))\n",
    "if __name__ == '__main__' :\n",
    "    meal_cost = float(input())\n",
    "\n",
    "    tip_percent = int(input())\n",
    "\n",
    "    tax_percent = int(input())\n",
    "\n",
    "    solve(meal_cost, tip_percent, tax_percent)"
   ]
  },
  {
   "cell_type": "markdown",
   "metadata": {},
   "source": [
    "### 다시보기 선형으로 생각하지 말고 좀 더 묶어서 생각하자"
   ]
  },
  {
   "cell_type": "code",
   "execution_count": 35,
   "metadata": {},
   "outputs": [],
   "source": [
    "def cal2(m, t, x):\n",
    "    return print(int(round(m+ (1 + (m + x)/100))))"
   ]
  },
  {
   "cell_type": "code",
   "execution_count": 36,
   "metadata": {},
   "outputs": [
    {
     "name": "stdout",
     "output_type": "stream",
     "text": [
      "15\n"
     ]
    }
   ],
   "source": [
    "cal(m, t, x)"
   ]
  },
  {
   "cell_type": "markdown",
   "metadata": {},
   "source": [
    "### 신박한 함수 있나 찾아봤는데 없는 것 같다.\n",
    "- 더 디깅할 요소는 없는 듯"
   ]
  },
  {
   "cell_type": "code",
   "execution_count": 37,
   "metadata": {},
   "outputs": [
    {
     "name": "stdout",
     "output_type": "stream",
     "text": [
      "360.0\n",
      "The 1200% of 30 is 360.0\n"
     ]
    }
   ],
   "source": [
    "class Percent:\n",
    "    def __init__(self, operation=\"500*22%\"):\n",
    "        self.operation = operation\n",
    "        if \"%\" == self.operation[-1] and \"*\" in self.operation: # \"%\"가 맨뒤에 있고 \"*\" 가 포함되어있으면\n",
    "            getnum = self.operation[:-1]\n",
    "            ops = getnum.split(\"*\") # *을 기준으로 두 개의 데이터로 쪼개서 리스트에 넣음\n",
    "            base = int(ops[0]) # 500이라는 숫자 저장\n",
    "            percentage = int(ops[1]) # 22 라는 숫자 저장\n",
    "            self.result = base * percentage / 100 # self.result 로 연산 결과 출력\n",
    "            self.description = \"The {}% of {} is {}\".format(*ops, self.result) # 멋지게 표현\n",
    "        else:\n",
    "            print(\"The argument must be a string like '500*22%'\")\n",
    "\n",
    "\n",
    "x = Percent(\"1200*30%\")\n",
    "print(x.result)\n",
    "print(x.description)"
   ]
  },
  {
   "cell_type": "markdown",
   "metadata": {},
   "source": [
    "### operator 모듈을 불러오면 계산은 할 수 있는 데 쓸 일 이 있는지 잘 모르겠다.\n",
    "- 연산속도가 빠르려나?"
   ]
  },
  {
   "cell_type": "code",
   "execution_count": 44,
   "metadata": {},
   "outputs": [],
   "source": [
    "import operator"
   ]
  },
  {
   "cell_type": "code",
   "execution_count": 45,
   "metadata": {},
   "outputs": [
    {
     "data": {
      "text/plain": [
       "3"
      ]
     },
     "execution_count": 45,
     "metadata": {},
     "output_type": "execute_result"
    }
   ],
   "source": [
    "operator.add(1, 2)"
   ]
  },
  {
   "cell_type": "markdown",
   "metadata": {},
   "source": [
    "### Operator 모듈을 쓰는 이유를 알았다.\n",
    "[스택 오버 플로우](https://stackoverflow.com/questions/467920/in-what-situation-should-the-built-in-operator-module-be-used-in-python\n",
    ")\n",
    "빠르다는데 확실한 정보는 아닌 듯 (지 생각이란다)\n"
   ]
  },
  {
   "cell_type": "markdown",
   "metadata": {},
   "source": [
    "1. operator.add is (I think) slightly faster.\n",
    "2. It makes the code easier to understand for you, or another person later, looking at it. They don't need to look for the definition of add, because they know what the operator module does.\n",
    "3. operator.add is picklable, while lambda is not. This means that the function can be saved to disk or passed between processes."
   ]
  },
  {
   "cell_type": "markdown",
   "metadata": {},
   "source": [
    "### 확실한 장점은 람다가 들어갈 위치에서의 활용이다."
   ]
  },
  {
   "cell_type": "code",
   "execution_count": 50,
   "metadata": {},
   "outputs": [
    {
     "data": {
      "text/plain": [
       "14"
      ]
     },
     "execution_count": 50,
     "metadata": {},
     "output_type": "execute_result"
    }
   ],
   "source": [
    "from functools import reduce\n",
    "a = [2, 3, 4, 5]\n",
    "reduce(lambda x, y: x + y, a)"
   ]
  },
  {
   "cell_type": "code",
   "execution_count": 52,
   "metadata": {},
   "outputs": [
    {
     "data": {
      "text/plain": [
       "14"
      ]
     },
     "execution_count": 52,
     "metadata": {},
     "output_type": "execute_result"
    }
   ],
   "source": [
    "reduce(operator.add, a)"
   ]
  },
  {
   "cell_type": "markdown",
   "metadata": {},
   "source": [
    "### 링크가 오래된 버전인가부다. 클래스 쓸 때 빼고는 유용한지 잘 모르겠다."
   ]
  },
  {
   "cell_type": "code",
   "execution_count": 71,
   "metadata": {},
   "outputs": [],
   "source": [
    "a = ['h', 'e', 'l', 'l', 'o']\n",
    "def item_ope(s):\n",
    "    print(operator.getitem(s, 1))\n",
    "    # e\n",
    "    print(operator.itemgetter(1, 4)(s))\n",
    "    # ('e', 'o')\n",
    "\n",
    "    inventory = [('apple', 3), ('banana', 2), ('pear', 5), ('orange', 1)]\n",
    "    get_count = operator.itemgetter(1)\n",
    "    print(list(map(get_count, inventory)))\n",
    "    # [3, 2, 5, 1]"
   ]
  },
  {
   "cell_type": "code",
   "execution_count": 72,
   "metadata": {},
   "outputs": [
    {
     "name": "stdout",
     "output_type": "stream",
     "text": [
      "e\n",
      "('e', 'o')\n",
      "[3, 2, 5, 1]\n"
     ]
    }
   ],
   "source": [
    "item_ope(a)"
   ]
  }
 ],
 "metadata": {
  "kernelspec": {
   "display_name": "Python 3",
   "language": "python",
   "name": "python3"
  },
  "language_info": {
   "codemirror_mode": {
    "name": "ipython",
    "version": 3
   },
   "file_extension": ".py",
   "mimetype": "text/x-python",
   "name": "python",
   "nbconvert_exporter": "python",
   "pygments_lexer": "ipython3",
   "version": "3.7.4"
  }
 },
 "nbformat": 4,
 "nbformat_minor": 2
}
