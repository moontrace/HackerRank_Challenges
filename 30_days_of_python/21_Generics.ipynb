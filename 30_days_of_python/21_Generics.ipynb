{
 "cells": [
  {
   "cell_type": "markdown",
   "metadata": {},
   "source": [
    "Today we're discussing Generics; be aware that not all languages support this construct, so fewer languages are enabled for this challenge."
   ]
  },
  {
   "cell_type": "code",
   "execution_count": 1,
   "metadata": {},
   "outputs": [
    {
     "ename": "SyntaxError",
     "evalue": "invalid syntax (<ipython-input-1-41025f3416de>, line 5)",
     "output_type": "error",
     "traceback": [
      "\u001b[1;36m  File \u001b[1;32m\"<ipython-input-1-41025f3416de>\"\u001b[1;36m, line \u001b[1;32m5\u001b[0m\n\u001b[1;33m    using namespace std;\u001b[0m\n\u001b[1;37m                  ^\u001b[0m\n\u001b[1;31mSyntaxError\u001b[0m\u001b[1;31m:\u001b[0m invalid syntax\n"
     ]
    }
   ],
   "source": [
    "#include <iostream>\n",
    "#include <vector>\n",
    "#include <string>\n",
    "\n",
    "using namespace std;\n",
    "\n",
    "/**\n",
    "*    Name: printArray\n",
    "*    Print each element of the generic vector on a new line. Do not return anything.\n",
    "*    @param A generic vector\n",
    "**/\n",
    "template<typename T>void printArray(vector<T> a){for(T i:a)cout<<i<<endl;}\n",
    "// Write your code here\n",
    "\n",
    "int main() {\n",
    "\tint n;\n",
    "\t\n",
    "\tcin >> n;\n",
    "\tvector<int> int_vector(n);\n",
    "\tfor (int i = 0; i < n; i++) {\n",
    "\t\tint value;\n",
    "\t\tcin >> value;\n",
    "\t\tint_vector[i] = value;\n",
    "\t}\n",
    "\t\n",
    "\tcin >> n;\n",
    "\tvector<string> string_vector(n);\n",
    "\tfor (int i = 0; i < n; i++) {\n",
    "\t\tstring value;\n",
    "\t\tcin >> value;\n",
    "\t\tstring_vector[i] = value;\n",
    "\t}\n",
    "\n",
    "\tprintArray<int>(int_vector);\n",
    "\tprintArray<string>(string_vector);\n",
    "\n",
    "\treturn 0;\n",
    "}"
   ]
  },
  {
   "cell_type": "markdown",
   "metadata": {},
   "source": [
    "- c ++ 에서만 지원하는 문제다 대충 어떤 내용인지만 공부해보자"
   ]
  },
  {
   "cell_type": "code",
   "execution_count": null,
   "metadata": {},
   "outputs": [],
   "source": []
  }
 ],
 "metadata": {
  "kernelspec": {
   "display_name": "Python 3",
   "language": "python",
   "name": "python3"
  },
  "language_info": {
   "codemirror_mode": {
    "name": "ipython",
    "version": 3
   },
   "file_extension": ".py",
   "mimetype": "text/x-python",
   "name": "python",
   "nbconvert_exporter": "python",
   "pygments_lexer": "ipython3",
   "version": "3.7.4"
  }
 },
 "nbformat": 4,
 "nbformat_minor": 2
}
