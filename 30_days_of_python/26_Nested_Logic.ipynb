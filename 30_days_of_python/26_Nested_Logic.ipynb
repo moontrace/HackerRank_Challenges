{
 "cells": [
  {
   "cell_type": "markdown",
   "metadata": {},
   "source": [
    "Today's challenge puts your understanding of nested conditional statements to the test."
   ]
  },
  {
   "cell_type": "code",
   "execution_count": 2,
   "metadata": {},
   "outputs": [],
   "source": [
    "rd, rm, ry = 9, 6, 2015\n",
    "ed, em, ey = 6, 6, 2015"
   ]
  },
  {
   "cell_type": "markdown",
   "metadata": {},
   "source": [
    "- 걍 주어진대로 프로그래밍 하면 된다."
   ]
  },
  {
   "cell_type": "code",
   "execution_count": 3,
   "metadata": {},
   "outputs": [
    {
     "name": "stdout",
     "output_type": "stream",
     "text": [
      "45\n"
     ]
    }
   ],
   "source": [
    "if (ry, rm, rd) <= (ey, em, ed):\n",
    "    print(0)\n",
    "elif (ry, rm) == (ey, em):\n",
    "    print(15 * (rd - ed))\n",
    "elif ry == ey:\n",
    "    print(500 * (rm - em))\n",
    "else:\n",
    "    print(10000)"
   ]
  },
  {
   "cell_type": "code",
   "execution_count": 1,
   "metadata": {},
   "outputs": [
    {
     "name": "stdout",
     "output_type": "stream",
     "text": [
      "9 6 2015\n",
      "6 6 2015\n",
      "45\n"
     ]
    }
   ],
   "source": [
    "rd, rm, ry = [int(x) for x in input().split(' ')]\n",
    "ed, em, ey = [int(x) for x in input().split(' ')]\n",
    "\n",
    "if (ry, rm, rd) <= (ey, em, ed):\n",
    "    print(0)\n",
    "elif (ry, rm) == (ey, em):\n",
    "    print(15 * (rd - ed))\n",
    "elif ry == ey:\n",
    "    print(500 * (rm - em))\n",
    "else:\n",
    "    print(10000)"
   ]
  }
 ],
 "metadata": {
  "kernelspec": {
   "display_name": "Python 3",
   "language": "python",
   "name": "python3"
  },
  "language_info": {
   "codemirror_mode": {
    "name": "ipython",
    "version": 3
   },
   "file_extension": ".py",
   "mimetype": "text/x-python",
   "name": "python",
   "nbconvert_exporter": "python",
   "pygments_lexer": "ipython3",
   "version": "3.7.4"
  }
 },
 "nbformat": 4,
 "nbformat_minor": 2
}
