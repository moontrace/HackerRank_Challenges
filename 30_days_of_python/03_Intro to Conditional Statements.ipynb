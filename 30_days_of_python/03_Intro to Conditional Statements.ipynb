{
 "cells": [
  {
   "cell_type": "markdown",
   "metadata": {},
   "source": [
    "### Day 3: Intro to Conditional Statements\n",
    "\n",
    "Print Weird if the number is weird; otherwise, print Not Weird.\n",
    "\n",
    "https://docs.python.org/3.5/tutorial/controlflow.html "
   ]
  },
  {
   "cell_type": "markdown",
   "metadata": {},
   "source": [
    "Given an integer, n,  perform the following conditional actions:\n",
    "\n",
    "- If `n` is `odd`, print `Weird`\n",
    "- If `n` is `even` and in the inclusive `range 2 of 5` to , print `Not Weird`\n",
    "- If `n` is `even` and in the inclusive `range 6 of 20` to , print `Weird`\n",
    "- If `n` is `even` and `greater than 20` , print `Not Weird`\n",
    "- Complete the stub code provided in your editor to print whether or not  is `weird`."
   ]
  },
  {
   "cell_type": "code",
   "execution_count": 56,
   "metadata": {},
   "outputs": [],
   "source": [
    "def Weird(N):\n",
    "    if N % 2 == 0:\n",
    "        if N in range(2, 6):\n",
    "            print(f'Not Weird')\n",
    "\n",
    "        elif N in range(6, 21):\n",
    "            print(f'Weird')\n",
    "    \n",
    "        else:\n",
    "            print(f'Not Weird') \n",
    "\n",
    "    else:\n",
    "        print(f'Weird')"
   ]
  },
  {
   "cell_type": "code",
   "execution_count": 57,
   "metadata": {},
   "outputs": [
    {
     "name": "stdout",
     "output_type": "stream",
     "text": [
      "Weird\n"
     ]
    }
   ],
   "source": [
    "Weird(3)"
   ]
  },
  {
   "cell_type": "markdown",
   "metadata": {},
   "source": [
    "### 제출 답안 별로 생각하고 싶지 않아서 그냥 있는대로 씀"
   ]
  },
  {
   "cell_type": "code",
   "execution_count": null,
   "metadata": {},
   "outputs": [],
   "source": [
    "def weird(N):\n",
    "    if N % 2 == 0:\n",
    "        if N in range(2, 6):\n",
    "            print(f'Not Weird')\n",
    "\n",
    "        elif N in range(6, 21):\n",
    "            print(f'Weird')\n",
    "    \n",
    "        else:\n",
    "            print(f'Not Weird') \n",
    "\n",
    "    else:\n",
    "        print(f'Weird')\n",
    "\n",
    "\n",
    "if __name__ == '__main__':\n",
    "    N = int(input())\n",
    "    weird(N)\n"
   ]
  },
  {
   "cell_type": "markdown",
   "metadata": {},
   "source": [
    "### 숏코딩"
   ]
  },
  {
   "cell_type": "code",
   "execution_count": 60,
   "metadata": {},
   "outputs": [
    {
     "name": "stdout",
     "output_type": "stream",
     "text": [
      "Weird\n"
     ]
    }
   ],
   "source": [
    "N = 5\n",
    "\n",
    "if N % 2 == 1 or (N > 5 and N < 21):\n",
    "    print(\"Weird\")\n",
    "else:\n",
    "    print(\"Not Weird\")"
   ]
  },
  {
   "cell_type": "markdown",
   "metadata": {},
   "source": [
    "### 리스트 컴프리헨션 & 제네레이터"
   ]
  },
  {
   "cell_type": "code",
   "execution_count": 77,
   "metadata": {},
   "outputs": [
    {
     "name": "stdout",
     "output_type": "stream",
     "text": [
      "A :  <class 'list'>\n",
      "A :  ['not Weird']\n",
      "\n",
      "\n",
      "B :  <class 'str'>\n",
      "B :  not Weird\n"
     ]
    }
   ],
   "source": [
    "N = 24\n",
    "print(f'A : ', type(['Weird' if N % 2 == 1 or (N > 5 and N < 21) else 'not Weird']))\n",
    "print(f'A : ', ['Weird' if N % 2 == 1 or (N > 5 and N < 21) else 'not Weird'])\n",
    "print('\\n')\n",
    "print(f'B : ', type('Weird' if N % 2 == 1 or (N > 5 and N < 21) else 'not Weird'))\n",
    "print(f'B : ', ('Weird' if N % 2 == 1 or (N > 5 and N < 21) else 'not Weird'))"
   ]
  },
  {
   "cell_type": "code",
   "execution_count": 78,
   "metadata": {},
   "outputs": [
    {
     "data": {
      "text/plain": [
       "'not Weird'"
      ]
     },
     "execution_count": 78,
     "metadata": {},
     "output_type": "execute_result"
    }
   ],
   "source": [
    "('Weird' if N % 2 == 1 or (N in range(5, 21)) else 'not Weird')"
   ]
  },
  {
   "cell_type": "code",
   "execution_count": 85,
   "metadata": {},
   "outputs": [
    {
     "data": {
      "text/plain": [
       "'range 범위 헷갈리지 말기, : {5, 6, 7, 8, 9, 10, 11, 12, 13, 14, 15, 16, 17, 18, 19, 20}'"
      ]
     },
     "execution_count": 85,
     "metadata": {},
     "output_type": "execute_result"
    }
   ],
   "source": [
    "f'range 범위 헷갈리지 말기, : {set(range(5,21))}'"
   ]
  }
 ],
 "metadata": {
  "kernelspec": {
   "display_name": "Python 3",
   "language": "python",
   "name": "python3"
  },
  "language_info": {
   "codemirror_mode": {
    "name": "ipython",
    "version": 3
   },
   "file_extension": ".py",
   "mimetype": "text/x-python",
   "name": "python",
   "nbconvert_exporter": "python",
   "pygments_lexer": "ipython3",
   "version": "3.7.4"
  }
 },
 "nbformat": 4,
 "nbformat_minor": 2
}
