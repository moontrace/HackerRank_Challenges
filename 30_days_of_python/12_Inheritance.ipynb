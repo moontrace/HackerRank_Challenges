{
 "cells": [
  {
   "cell_type": "markdown",
   "metadata": {},
   "source": [
    "Today, we're delving into Inheritance.\n",
    "You are given two classes, Person and Student, where Person is the base class and Student is the derived class. Completed code for Person and a declaration for Student are provided for you in the editor. Observe that Student inherits all the properties of Person."
   ]
  },
  {
   "cell_type": "markdown",
   "metadata": {},
   "source": [
    "상속에 대해서 알아보는 문제이다."
   ]
  },
  {
   "cell_type": "markdown",
   "metadata": {},
   "source": [
    "ID 확인하기"
   ]
  },
  {
   "cell_type": "code",
   "execution_count": 1,
   "metadata": {},
   "outputs": [],
   "source": [
    "# Person class\n",
    "class Person:\n",
    "    def __init__(self, firstName, lastName, idNumber):\n",
    "        self.firstName = firstName\n",
    "        self.lastName = lastName\n",
    "        self.idNumber = idNumber\n",
    "    def printPerson(self):\n",
    "        print(\"Name:\", self.lastName + \",\", self.firstName)\n",
    "        print(\"ID:\", self.idNumber)"
   ]
  },
  {
   "cell_type": "code",
   "execution_count": 2,
   "metadata": {},
   "outputs": [],
   "source": [
    "PerMemelli = Person(\"Heraldo\", \"Memelli\", 8135627)"
   ]
  },
  {
   "cell_type": "code",
   "execution_count": 3,
   "metadata": {},
   "outputs": [
    {
     "name": "stdout",
     "output_type": "stream",
     "text": [
      "Name: Memelli, Heraldo\n",
      "ID: 8135627\n"
     ]
    }
   ],
   "source": [
    "PerMemelli.printPerson()"
   ]
  },
  {
   "cell_type": "markdown",
   "metadata": {},
   "source": [
    "계산기 시험하기"
   ]
  },
  {
   "cell_type": "code",
   "execution_count": 4,
   "metadata": {},
   "outputs": [],
   "source": [
    "class Student(Person):\n",
    "    #   Class Constructor\n",
    "    def __init__(self, *scores):\n",
    "        self.scores = scores\n",
    "    \n",
    "    def calculate(self):\n",
    "        avg = sum(self.scores)/len(self.scores)\n",
    "        \n",
    "        if avg >= 90:\n",
    "            print(\"Grade: O\")\n",
    "        elif avg >= 80:\n",
    "            print(\"Grade: E\")\n",
    "        elif avg >= 70:\n",
    "            print(\"Grade: A\")\n",
    "        elif avg >= 55:\n",
    "            print(\"Grade: P\")\n",
    "        elif avg >= 40:\n",
    "            print(\"Grade: D\")\n",
    "        else:\n",
    "            print(\"Grade: T\")"
   ]
  },
  {
   "cell_type": "code",
   "execution_count": 5,
   "metadata": {},
   "outputs": [],
   "source": [
    "StdMemelli = Student(100, 80)"
   ]
  },
  {
   "cell_type": "code",
   "execution_count": 6,
   "metadata": {},
   "outputs": [
    {
     "data": {
      "text/plain": [
       "90.0"
      ]
     },
     "execution_count": 6,
     "metadata": {},
     "output_type": "execute_result"
    }
   ],
   "source": [
    "sum(StdMemelli.scores)/len(StdMemelli.scores)"
   ]
  },
  {
   "cell_type": "code",
   "execution_count": 7,
   "metadata": {
    "scrolled": true
   },
   "outputs": [
    {
     "name": "stdout",
     "output_type": "stream",
     "text": [
      "Grade: O\n"
     ]
    }
   ],
   "source": [
    "StdMemelli.calculate()"
   ]
  },
  {
   "cell_type": "markdown",
   "metadata": {},
   "source": [
    "3. 인풋 설계하기"
   ]
  },
  {
   "cell_type": "code",
   "execution_count": 14,
   "metadata": {},
   "outputs": [
    {
     "name": "stdout",
     "output_type": "stream",
     "text": [
      "Heraldo Memelli 8135627\n"
     ]
    }
   ],
   "source": [
    "firstName, lastName, idNumber = map(str, input().split())\n",
    "n = input()"
   ]
  },
  {
   "cell_type": "code",
   "execution_count": 15,
   "metadata": {},
   "outputs": [
    {
     "data": {
      "text/plain": [
       "('Heraldo', 'Memelli', '8135627')"
      ]
     },
     "execution_count": 15,
     "metadata": {},
     "output_type": "execute_result"
    }
   ],
   "source": [
    "firstName, lastName, idNumber"
   ]
  },
  {
   "cell_type": "code",
   "execution_count": 25,
   "metadata": {},
   "outputs": [
    {
     "name": "stdout",
     "output_type": "stream",
     "text": [
      "Name: Memelli, Heraldo\n",
      "ID: 8135627\n"
     ]
    }
   ],
   "source": [
    "PersonTest = Person(firstName, lastName, idNumber)\n",
    "PersonTest.printPerson()"
   ]
  },
  {
   "cell_type": "code",
   "execution_count": 46,
   "metadata": {},
   "outputs": [
    {
     "name": "stdout",
     "output_type": "stream",
     "text": [
      "100 90\n"
     ]
    }
   ],
   "source": [
    "scores = map(int, input().split())"
   ]
  },
  {
   "cell_type": "code",
   "execution_count": 47,
   "metadata": {},
   "outputs": [
    {
     "name": "stdout",
     "output_type": "stream",
     "text": [
      "Grade: O\n"
     ]
    }
   ],
   "source": [
    "Std_TEST = Student(*scores)\n",
    "Std_TEST.calculate()"
   ]
  },
  {
   "cell_type": "markdown",
   "metadata": {},
   "source": [
    "### 전체 함수 붙이기"
   ]
  },
  {
   "cell_type": "code",
   "execution_count": 53,
   "metadata": {
    "scrolled": true
   },
   "outputs": [
    {
     "name": "stdout",
     "output_type": "stream",
     "text": [
      "Heraldo Memelli 8135627\n",
      "2\n",
      "100 80\n",
      "Name: Memelli, Heraldo\n",
      "ID: 8135627\n"
     ]
    },
    {
     "data": {
      "text/plain": [
       "'O'"
      ]
     },
     "execution_count": 53,
     "metadata": {},
     "output_type": "execute_result"
    }
   ],
   "source": [
    "class Person:\n",
    "    def __init__(self, firstName, lastName, idNumber):\n",
    "        self.firstName = firstName\n",
    "        self.lastName = lastName\n",
    "        self.idNumber = int(idNumber)\n",
    "    def printPerson(self):\n",
    "        print(\"Name:\", self.lastName + \",\", self.firstName)\n",
    "        print(\"ID:\", self.idNumber)\n",
    "\n",
    "class Student(Person):\n",
    "    #   Class Constructor\n",
    "    def __init__(self, firstName, lastName, idNumber, *scores):\n",
    "        self.firstName = firstName\n",
    "        self.lastName = lastName\n",
    "        self.idNumber = int(idNumber)\n",
    "        self.scores = scores\n",
    "    \n",
    "    def calculate(self):\n",
    "        avg = sum(self.scores)/len(self.scores)\n",
    "        \n",
    "        if avg >= 90:\n",
    "            return \"O\"\n",
    "        elif avg >= 80:\n",
    "            return \"E\"\n",
    "        elif avg >= 70:\n",
    "            return \"A\"\n",
    "        elif avg >= 55:\n",
    "            return \"P\"\n",
    "        elif avg >= 40:\n",
    "            return \"D\"\n",
    "        else:\n",
    "            return \"T\"\n",
    "\n",
    "firstName, lastName, idNumber = map(str, input().split())\n",
    "n = input()\n",
    "scores = map(int, input().split())\n",
    "\n",
    "Std_TEST = Student(firstName, lastName, idNumber, *scores)\n",
    "\n",
    "PersonTest.printPerson()\n",
    "Std_TEST.calculate()"
   ]
  },
  {
   "cell_type": "markdown",
   "metadata": {},
   "source": [
    "# 엌.. 인풋 설정이 되어있었다."
   ]
  },
  {
   "cell_type": "code",
   "execution_count": null,
   "metadata": {},
   "outputs": [],
   "source": [
    "line = input().split()\n",
    "firstName = line[0]\n",
    "lastName = line[1]\n",
    "idNumber = line[2]\n",
    "numScores = int(input()) # not needed for Python\n",
    "scores = list( map(int, input().split()) )\n",
    "s = Student(firstName, lastName, idNum, scores)\n",
    "s.printPerson()\n",
    "print(\"Grade:\", s.calculate())"
   ]
  },
  {
   "cell_type": "code",
   "execution_count": 55,
   "metadata": {},
   "outputs": [
    {
     "name": "stdout",
     "output_type": "stream",
     "text": [
      "Grade: O\n"
     ]
    }
   ],
   "source": [
    "print(\"Grade:\",\"O\")"
   ]
  },
  {
   "cell_type": "markdown",
   "metadata": {},
   "source": [
    "# 숏 코딩"
   ]
  },
  {
   "cell_type": "code",
   "execution_count": 56,
   "metadata": {},
   "outputs": [],
   "source": [
    "class Student(Person, object):\n",
    "    def __init__(self, firstName, lastName, idNumber, scores):\n",
    "        super().__init__(firstName, lastName, idNumber) # 슈퍼!\n",
    "        self.scores = scores\n",
    "    def calculate(self):\n",
    "        iAvg = sum(self.scores)/len(self.scores)\n",
    "        return 'O' if iAvg > 89 else 'E' if iAvg > 79 else 'A' if iAvg > 69 else 'P' if iAvg > 54 else 'D' if iAvg > 39 else 'T' # calculate 분기"
   ]
  },
  {
   "cell_type": "code",
   "execution_count": 57,
   "metadata": {},
   "outputs": [],
   "source": [
    "# grade control\n",
    "def calculate(self):\n",
    "    grades = 'OEAPDT'\n",
    "    \n",
    "    a = sum(self.scores) / len(self.scores)\n",
    "    \n",
    "    conditions = [\n",
    "        90 <= a <= 100, 80 <= a < 90, 70 <= a < 80, \n",
    "        55 <= a < 70, 40 <= a < 55, a < 40\n",
    "    ]\n",
    "    \n",
    "    for (condition, grade) in zip(conditions, grades):\n",
    "        if condition is True: return grade"
   ]
  },
  {
   "cell_type": "code",
   "execution_count": null,
   "metadata": {},
   "outputs": [],
   "source": [
    "def calculate(self):\n",
    "        avg = sum(self.scores) / len(self.scores)\n",
    "        s = \"TDPAEO\"\n",
    "        lims = 40, 55, 70, 80, 90\n",
    "        return s[sum(avg >= i for i in lims)]"
   ]
  }
 ],
 "metadata": {
  "kernelspec": {
   "display_name": "Python 3",
   "language": "python",
   "name": "python3"
  },
  "language_info": {
   "codemirror_mode": {
    "name": "ipython",
    "version": 3
   },
   "file_extension": ".py",
   "mimetype": "text/x-python",
   "name": "python",
   "nbconvert_exporter": "python",
   "pygments_lexer": "ipython3",
   "version": "3.7.4"
  }
 },
 "nbformat": 4,
 "nbformat_minor": 2
}
