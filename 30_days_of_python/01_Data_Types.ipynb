{
 "cells": [
  {
   "cell_type": "code",
   "execution_count": 27,
   "metadata": {},
   "outputs": [
    {
     "name": "stdout",
     "output_type": "stream",
     "text": [
      "1\n",
      "2\n",
      "3\n",
      "5\n",
      "6.0\n",
      "HackerRank 3\n"
     ]
    }
   ],
   "source": [
    "# Declare second integer, double, and String variables.\n",
    "i = 4\n",
    "d = 4.0\n",
    "s = 'HackerRank '\n",
    "# Read and save an integer, double, and String to your variables.\n",
    "input_i = int(input())\n",
    "input_d = float(input())\n",
    "input_s = input()\n",
    "# Print the sum of both integer variables on a new line.\n",
    "print(i + input_i)\n",
    "# Print the sum of the double variables on a new line.\n",
    "print(d + input_d)\n",
    "# Concatenate and print the String variables on a new line.\n",
    "# The 's' variable above should be printed first.\n",
    "print(s + input_s)"
   ]
  },
  {
   "cell_type": "code",
   "execution_count": 25,
   "metadata": {},
   "outputs": [
    {
     "name": "stdout",
     "output_type": "stream",
     "text": [
      "HackerRank is the best place to learn and practice coding!\n"
     ]
    }
   ],
   "source": [
    "print(\"{} is the best place to learn and practice coding!\".format(s.strip()))"
   ]
  }
 ],
 "metadata": {
  "kernelspec": {
   "display_name": "Python 3",
   "language": "python",
   "name": "python3"
  },
  "language_info": {
   "codemirror_mode": {
    "name": "ipython",
    "version": 3
   },
   "file_extension": ".py",
   "mimetype": "text/x-python",
   "name": "python",
   "nbconvert_exporter": "python",
   "pygments_lexer": "ipython3",
   "version": "3.7.4"
  }
 },
 "nbformat": 4,
 "nbformat_minor": 2
}
