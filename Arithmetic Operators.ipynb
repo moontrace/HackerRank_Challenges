{
  "nbformat": 4,
  "nbformat_minor": 0,
  "metadata": {
    "colab": {
      "name": "Untitled1.ipynb",
      "provenance": [],
      "include_colab_link": true
    },
    "kernelspec": {
      "name": "python3",
      "display_name": "Python 3"
    }
  },
  "cells": [
    {
      "cell_type": "markdown",
      "metadata": {
        "id": "view-in-github",
        "colab_type": "text"
      },
      "source": [
        "<a href=\"https://colab.research.google.com/github/moontrace/HackerRank_Challenges/blob/master/Arithmetic%20Operators.ipynb\" target=\"_parent\"><img src=\"https://colab.research.google.com/assets/colab-badge.svg\" alt=\"Open In Colab\"/></a>"
      ]
    },
    {
      "cell_type": "code",
      "metadata": {
        "id": "dlpAgSLbL-Mb",
        "colab_type": "code",
        "colab": {
          "base_uri": "https://localhost:8080/",
          "height": 70
        },
        "outputId": "bc08b5fb-5369-4185-d6f8-7a5d59d9eb8b"
      },
      "source": [
        "# 1프린트로 코딩하기\n",
        "a, b = 3, 2\n",
        "print('{0} \\n{1} \\n{2}'.format((a + b), (a - b), (a * b)))"
      ],
      "execution_count": 4,
      "outputs": [
        {
          "output_type": "stream",
          "text": [
            "5 \n",
            "1 \n",
            "6\n"
          ],
          "name": "stdout"
        }
      ]
    }
  ]
}