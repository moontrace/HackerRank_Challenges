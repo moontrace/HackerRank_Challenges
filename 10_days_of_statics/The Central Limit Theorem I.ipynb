{
 "cells": [
  {
   "cell_type": "markdown",
   "metadata": {},
   "source": [
    "In this challenge, we practice solving problems based on the Central Limit Theorem.\n",
    "- 중심 극한 정리의 코딩"
   ]
  },
  {
   "cell_type": "code",
   "execution_count": 1,
   "metadata": {},
   "outputs": [
    {
     "name": "stdout",
     "output_type": "stream",
     "text": [
      "9800\n",
      "49\n",
      "205\n",
      "15\n",
      "0.0098\n"
     ]
    }
   ],
   "source": [
    "import math\n",
    "\n",
    "x = int(input())\n",
    "n = int(input())\n",
    "mu = int(input())\n",
    "sigma = int(input())\n",
    "\n",
    "mu_sum = n * mu \n",
    "sigma_sum = math.sqrt(n) * sigma\n",
    "\n",
    "def cdf(x, mu, sigma):\n",
    "    Z = (x - mu)/sigma\n",
    "    return 0.5*(1 + math.erf(Z/(math.sqrt(2))))\n",
    "\n",
    "print(round(cdf(x, mu_sum, sigma_sum), 4))"
   ]
  },
  {
   "cell_type": "code",
   "execution_count": 2,
   "metadata": {},
   "outputs": [],
   "source": [
    "x =9800\n",
    "n = 49\n",
    "mu = 205\n",
    "sigma = 15"
   ]
  }
 ],
 "metadata": {
  "kernelspec": {
   "display_name": "Python 3",
   "language": "python",
   "name": "python3"
  },
  "language_info": {
   "codemirror_mode": {
    "name": "ipython",
    "version": 3
   },
   "file_extension": ".py",
   "mimetype": "text/x-python",
   "name": "python",
   "nbconvert_exporter": "python",
   "pygments_lexer": "ipython3",
   "version": "3.7.5"
  }
 },
 "nbformat": 4,
 "nbformat_minor": 2
}
