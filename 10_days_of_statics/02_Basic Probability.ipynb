{
 "cells": [
  {
   "cell_type": "markdown",
   "metadata": {},
   "source": [
    "### 1. 공평한 6면체 주사위를 한번에 2개 던졌을 때 합이 9 이상일 일 확률"
   ]
  },
  {
   "cell_type": "code",
   "execution_count": 64,
   "metadata": {},
   "outputs": [
    {
     "name": "stdout",
     "output_type": "stream",
     "text": [
      "1 5\n",
      "2 4\n",
      "3 3\n",
      "4 2\n",
      "5 1\n"
     ]
    }
   ],
   "source": [
    "### 이 코딩을 하고 싶었다. 근데 잘 안되더라.\n",
    "k = 6\n",
    "\n",
    "for i in range(1, 7):\n",
    "    for j in range(1, 7):\n",
    "        if i + j == k:\n",
    "            print(i, j)"
   ]
  },
  {
   "cell_type": "markdown",
   "metadata": {},
   "source": [
    "### 2 2개의 공정한 주사위를 던졌을 때, 두 주사위의 합이 6 이면서 두 주사위의 숫자가 서로 다를 때의 확률"
   ]
  },
  {
   "cell_type": "code",
   "execution_count": 65,
   "metadata": {},
   "outputs": [
    {
     "data": {
      "text/plain": [
       "0.1111111111111111"
      ]
     },
     "execution_count": 65,
     "metadata": {},
     "output_type": "execute_result"
    }
   ],
   "source": [
    "# 단순 경의우 수 계산\n",
    "4/36"
   ]
  },
  {
   "cell_type": "markdown",
   "metadata": {},
   "source": [
    "A: rolled values are different\n",
    "A': rolled values are the same\n",
    "P(A) = 1 - P(A') = 1 - 6/36 = 30/36\n",
    "\n",
    "B: sum is 6\n",
    "P(B) = 5/36\n",
    "P(A | B) = 4/5\n",
    "\n",
    "P(A and B) = P(A | B) * P(B) = 4/5 * 5/36 = 4/36 = 1/9"
   ]
  },
  {
   "cell_type": "code",
   "execution_count": 71,
   "metadata": {},
   "outputs": [],
   "source": [
    "A = 30/36 # P(A)\n",
    "B = 5/36 # P(B)"
   ]
  },
  {
   "cell_type": "code",
   "execution_count": 72,
   "metadata": {},
   "outputs": [],
   "source": [
    "C = 4/5 # P(A | B) 합이 6인 경우의 수에서 두 값이 서로 다를 확률"
   ]
  },
  {
   "cell_type": "code",
   "execution_count": 74,
   "metadata": {},
   "outputs": [
    {
     "data": {
      "text/plain": [
       "0.1111111111111111"
      ]
     },
     "execution_count": 74,
     "metadata": {},
     "output_type": "execute_result"
    }
   ],
   "source": [
    "# P(B|A) 두값이 서로 다를 때 합이 6인 경우\n",
    "D = 4/5 * 5/36\n",
    "D"
   ]
  },
  {
   "cell_type": "markdown",
   "metadata": {},
   "source": [
    "### 이 풀이가 뭔가 더 있어보이고 연습이 되는 것 같기도 하다."
   ]
  },
  {
   "cell_type": "markdown",
   "metadata": {},
   "source": [
    "### 3 단지의 공에서 1개씩 총 3개의 공을 뽑았을 때 빨간공 2개, 검은공 1개가 나올 확률"
   ]
  },
  {
   "cell_type": "code",
   "execution_count": 89,
   "metadata": {},
   "outputs": [],
   "source": [
    "X = {\"red\": 4, \"black\":3}"
   ]
  },
  {
   "cell_type": "code",
   "execution_count": 90,
   "metadata": {},
   "outputs": [],
   "source": [
    "Y = {\"red\": 5, \"black\":4}"
   ]
  },
  {
   "cell_type": "code",
   "execution_count": 91,
   "metadata": {},
   "outputs": [],
   "source": [
    "Z = {\"red\": 4, \"black\":4}"
   ]
  },
  {
   "cell_type": "markdown",
   "metadata": {},
   "source": [
    "X Y Z 에서 레드 2 블랙 1개 나올 확률 구해서 더하면 된당"
   ]
  },
  {
   "cell_type": "code",
   "execution_count": 95,
   "metadata": {},
   "outputs": [
    {
     "name": "stdout",
     "output_type": "stream",
     "text": [
      "레드 2개 검은색 1개일 확률 0.40476190476190477, 분수로 17/42.\n"
     ]
    }
   ],
   "source": [
    "# 정성 추 답안지\n",
    "from fractions import Fraction\n",
    "\n",
    "x = [4, 3]\n",
    "y = [5, 4]\n",
    "z = [4, 4]\n",
    "\n",
    "# The probabilities of pulling red form each urn\n",
    "xr = x[0] / sum(x)\n",
    "yr = y[0] / sum(y)\n",
    "zr = z[0] / sum(z)\n",
    "\n",
    "p = (xr * yr * (1 - zr)) + (xr * (1 - yr) * zr) + ((1 - xr) * yr * zr)\n",
    "p_frac = Fraction(p).limit_denominator() # Fraction form\n",
    "\n",
    "print(f\"레드 2개 검은색 1개일 확률 {p}, 분수로 {p_frac}.\")"
   ]
  },
  {
   "cell_type": "markdown",
   "metadata": {},
   "source": [
    "## 번외 조합의 코딩"
   ]
  },
  {
   "cell_type": "markdown",
   "metadata": {},
   "source": [
    "문제는 단순하지만 조합의 코딩을 만만치 않다. 생성기 함수에 대한 이해가 있어야 하는 듯?\n",
    "혼자 만들어볼려고 했는데 코딩 몇가지 시도 하다가 범용적인 코딩은 어렵다는 생각에 접었다."
   ]
  },
  {
   "cell_type": "code",
   "execution_count": 2,
   "metadata": {},
   "outputs": [],
   "source": [
    "### 너무 복잡하고 파이썬 답지 않다\n",
    "def permute(arr):\n",
    "    result = [arr[:]]\n",
    "    c = [0] * len(arr)\n",
    "    i = 0\n",
    "    while i < len(arr):\n",
    "        if c[i] < i:\n",
    "            if i % 2 == 0:\n",
    "                arr[0], arr[i] = arr[i], arr[0]\n",
    "            else:\n",
    "                arr[c[i]], arr[i] = arr[i], arr[c[i]]\n",
    "            result.append(arr[:])\n",
    "            c[i] += 1\n",
    "            i = 0\n",
    "        else:\n",
    "            c[i] = 0\n",
    "            i += 1\n",
    "    return result"
   ]
  },
  {
   "cell_type": "code",
   "execution_count": 24,
   "metadata": {},
   "outputs": [],
   "source": [
    "x = [1, 2, 3]"
   ]
  },
  {
   "cell_type": "code",
   "execution_count": 25,
   "metadata": {},
   "outputs": [
    {
     "data": {
      "text/plain": [
       "[[1, 2, 3], [2, 1, 3], [3, 1, 2], [1, 3, 2], [2, 3, 1], [3, 2, 1]]"
      ]
     },
     "execution_count": 25,
     "metadata": {},
     "output_type": "execute_result"
    }
   ],
   "source": [
    "permute(x)"
   ]
  },
  {
   "cell_type": "markdown",
   "metadata": {},
   "source": [
    "itertools를 이용한 코딩이다. 아마 다른 것도 교재 찾아보면 있을 것이다"
   ]
  },
  {
   "cell_type": "code",
   "execution_count": 26,
   "metadata": {},
   "outputs": [],
   "source": [
    "import itertools"
   ]
  },
  {
   "cell_type": "code",
   "execution_count": 27,
   "metadata": {},
   "outputs": [],
   "source": [
    "x = [1, 2, 3, 4, 5, 6]"
   ]
  },
  {
   "cell_type": "code",
   "execution_count": 42,
   "metadata": {},
   "outputs": [
    {
     "data": {
      "text/plain": [
       "[(1, 2),\n",
       " (1, 3),\n",
       " (1, 4),\n",
       " (1, 5),\n",
       " (1, 6),\n",
       " (2, 3),\n",
       " (2, 4),\n",
       " (2, 5),\n",
       " (2, 6),\n",
       " (3, 4),\n",
       " (3, 5),\n",
       " (3, 6),\n",
       " (4, 5),\n",
       " (4, 6),\n",
       " (5, 6)]"
      ]
     },
     "execution_count": 42,
     "metadata": {},
     "output_type": "execute_result"
    }
   ],
   "source": [
    "list(itertools.combinations(x, 2))"
   ]
  },
  {
   "cell_type": "markdown",
   "metadata": {},
   "source": [
    "### 가장 예쁘게 잘 짜여진 순열, 조합 코딩이다.\n",
    "두 개 다 1번 설정부 2번 동작부 3번 배열부로 이루어져 있다."
   ]
  },
  {
   "cell_type": "code",
   "execution_count": 56,
   "metadata": {},
   "outputs": [],
   "source": [
    "def permutation(arr, r):\n",
    "    # 1.\n",
    "    arr = sorted(arr)\n",
    "    used = [0 for _ in range(len(arr))]\n",
    "\n",
    "    def generate(chosen, used):\n",
    "        # 2.\n",
    "        if len(chosen) == r:\n",
    "            print(chosen)\n",
    "            return\n",
    "        # 3.\n",
    "        for i in range(len(arr)):\n",
    "            if not used[i]:\n",
    "                chosen.append(arr[i])\n",
    "                used[i] = 1\n",
    "                generate(chosen, used)\n",
    "                used[i] = 0\n",
    "                chosen.pop()\n",
    "    generate([], used)"
   ]
  },
  {
   "cell_type": "code",
   "execution_count": 57,
   "metadata": {},
   "outputs": [
    {
     "name": "stdout",
     "output_type": "stream",
     "text": [
      "[1, 2]\n",
      "[1, 3]\n",
      "[1, 4]\n",
      "[1, 5]\n",
      "[1, 6]\n",
      "[2, 1]\n",
      "[2, 3]\n",
      "[2, 4]\n",
      "[2, 5]\n",
      "[2, 6]\n",
      "[3, 1]\n",
      "[3, 2]\n",
      "[3, 4]\n",
      "[3, 5]\n",
      "[3, 6]\n",
      "[4, 1]\n",
      "[4, 2]\n",
      "[4, 3]\n",
      "[4, 5]\n",
      "[4, 6]\n",
      "[5, 1]\n",
      "[5, 2]\n",
      "[5, 3]\n",
      "[5, 4]\n",
      "[5, 6]\n",
      "[6, 1]\n",
      "[6, 2]\n",
      "[6, 3]\n",
      "[6, 4]\n",
      "[6, 5]\n"
     ]
    }
   ],
   "source": [
    "permutation(x, 2)"
   ]
  },
  {
   "cell_type": "code",
   "execution_count": 58,
   "metadata": {},
   "outputs": [],
   "source": [
    "def combination(arr, r):\n",
    "    # 1.\n",
    "    arr = sorted(arr)\n",
    "\n",
    "    # 2.\n",
    "    def generate(chosen):\n",
    "        if len(chosen) == r:\n",
    "            print(chosen)\n",
    "            return\n",
    "\n",
    "    # 3.\n",
    "        start = arr.index(chosen[-1]) + 1 if chosen else 0\n",
    "        for nxt in range(start, len(arr)):\n",
    "            chosen.append(arr[nxt])\n",
    "            generate(chosen)\n",
    "            chosen.pop()\n",
    "    generate([])"
   ]
  },
  {
   "cell_type": "code",
   "execution_count": 59,
   "metadata": {},
   "outputs": [
    {
     "name": "stdout",
     "output_type": "stream",
     "text": [
      "[1, 2]\n",
      "[1, 3]\n",
      "[1, 4]\n",
      "[1, 5]\n",
      "[1, 6]\n",
      "[2, 3]\n",
      "[2, 4]\n",
      "[2, 5]\n",
      "[2, 6]\n",
      "[3, 4]\n",
      "[3, 5]\n",
      "[3, 6]\n",
      "[4, 5]\n",
      "[4, 6]\n",
      "[5, 6]\n"
     ]
    }
   ],
   "source": [
    "combination(x, 2)"
   ]
  },
  {
   "cell_type": "code",
   "execution_count": null,
   "metadata": {},
   "outputs": [],
   "source": []
  }
 ],
 "metadata": {
  "kernelspec": {
   "display_name": "Python 3",
   "language": "python",
   "name": "python3"
  },
  "language_info": {
   "codemirror_mode": {
    "name": "ipython",
    "version": 3
   },
   "file_extension": ".py",
   "mimetype": "text/x-python",
   "name": "python",
   "nbconvert_exporter": "python",
   "pygments_lexer": "ipython3",
   "version": "3.7.4"
  }
 },
 "nbformat": 4,
 "nbformat_minor": 2
}
