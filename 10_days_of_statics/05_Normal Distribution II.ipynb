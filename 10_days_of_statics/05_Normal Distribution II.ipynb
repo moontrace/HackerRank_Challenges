{
 "cells": [
  {
   "cell_type": "markdown",
   "metadata": {},
   "source": [
    "- 정규 분포의 활용"
   ]
  },
  {
   "cell_type": "code",
   "execution_count": 1,
   "metadata": {},
   "outputs": [],
   "source": [
    "mean, std = 70, 10"
   ]
  },
  {
   "cell_type": "code",
   "execution_count": 2,
   "metadata": {},
   "outputs": [
    {
     "name": "stdout",
     "output_type": "stream",
     "text": [
      "15.87\n",
      "84.13\n",
      "15.87\n"
     ]
    }
   ],
   "source": [
    "import math\n",
    "mean, std = 70, 10\n",
    "cdf = lambda x: 0.5 * (1 + math.erf((x - mean) / (std * (2 ** 0.5))))\n",
    "\n",
    "\n",
    "print(round((1-cdf(80))*100,2))\n",
    "print(round((1-cdf(60))*100,2))\n",
    "print(round((cdf(60))*100,2))"
   ]
  },
  {
   "cell_type": "code",
   "execution_count": 6,
   "metadata": {},
   "outputs": [
    {
     "name": "stdout",
     "output_type": "stream",
     "text": [
      "Help on built-in function erf in module math:\n",
      "\n",
      "erf(x, /)\n",
      "    Error function at x.\n",
      "\n"
     ]
    }
   ],
   "source": [
    "help(math.erf)"
   ]
  },
  {
   "cell_type": "code",
   "execution_count": null,
   "metadata": {},
   "outputs": [],
   "source": []
  }
 ],
 "metadata": {
  "kernelspec": {
   "display_name": "Python 3",
   "language": "python",
   "name": "python3"
  },
  "language_info": {
   "codemirror_mode": {
    "name": "ipython",
    "version": 3
   },
   "file_extension": ".py",
   "mimetype": "text/x-python",
   "name": "python",
   "nbconvert_exporter": "python",
   "pygments_lexer": "ipython3",
   "version": "3.7.5"
  }
 },
 "nbformat": 4,
 "nbformat_minor": 2
}
