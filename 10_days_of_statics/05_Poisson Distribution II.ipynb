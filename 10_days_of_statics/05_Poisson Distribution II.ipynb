{
 "cells": [
  {
   "cell_type": "markdown",
   "metadata": {},
   "source": [
    "In this challenge, we go further with Poisson distributions"
   ]
  },
  {
   "cell_type": "code",
   "execution_count": 1,
   "metadata": {},
   "outputs": [],
   "source": [
    "X, Y = 0.88, 1.55"
   ]
  },
  {
   "cell_type": "code",
   "execution_count": 2,
   "metadata": {},
   "outputs": [
    {
     "name": "stdout",
     "output_type": "stream",
     "text": [
      "0.88 1.55\n",
      "226.176\n",
      "286.1\n"
     ]
    }
   ],
   "source": [
    "# Input from stdin\n",
    "averageX, averageY = [float(num) for num in input().split()]\n",
    "\n",
    "# Cost\n",
    "CostX = 160 + 40*(averageX + averageX**2)\n",
    "CostY = 128 + 40*(averageY + averageY**2)\n",
    "\n",
    "print(round(CostX, 3))\n",
    "print(round(CostY, 3))"
   ]
  },
  {
   "cell_type": "code",
   "execution_count": null,
   "metadata": {},
   "outputs": [],
   "source": [
    "import math\n",
    "mean, std = 70, 10\n",
    "cdf = lambda x: 0.5 * (1 + math.erf((x - mean) / (std * (2 ** 0.5))))\n",
    "\n",
    "\n",
    "print(round((1-cdf(80))*100,2))\n",
    "print(round((1-cdf(60))*100,2))\n",
    "print(round((cdf(60))*100,2))"
   ]
  }
 ],
 "metadata": {
  "kernelspec": {
   "display_name": "Python 3",
   "language": "python",
   "name": "python3"
  },
  "language_info": {
   "codemirror_mode": {
    "name": "ipython",
    "version": 3
   },
   "file_extension": ".py",
   "mimetype": "text/x-python",
   "name": "python",
   "nbconvert_exporter": "python",
   "pygments_lexer": "ipython3",
   "version": "3.7.5"
  }
 },
 "nbformat": 4,
 "nbformat_minor": 2
}
