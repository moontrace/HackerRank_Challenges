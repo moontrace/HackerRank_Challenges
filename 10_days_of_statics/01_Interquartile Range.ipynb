{
 "cells": [
  {
   "cell_type": "markdown",
   "metadata": {},
   "source": [
    "### 생각없이 리스트 컴프리헨션만 쓰다가 머리가 돌아가는 문제당"
   ]
  },
  {
   "cell_type": "code",
   "execution_count": 9,
   "metadata": {},
   "outputs": [],
   "source": [
    "n = 6\n",
    "x = [6, 12, 8, 10, 20, 16]\n",
    "f = [5, 4, 3, 2, 1, 5]"
   ]
  },
  {
   "cell_type": "code",
   "execution_count": 10,
   "metadata": {},
   "outputs": [],
   "source": [
    "import statistics as st"
   ]
  },
  {
   "cell_type": "code",
   "execution_count": 11,
   "metadata": {},
   "outputs": [],
   "source": [
    "s = []\n",
    "for i in range(n):\n",
    "    s += [x[i]] * f[i]\n",
    "s.sort()"
   ]
  },
  {
   "cell_type": "code",
   "execution_count": 12,
   "metadata": {},
   "outputs": [],
   "source": [
    "lenth_s = len(s)"
   ]
  },
  {
   "cell_type": "code",
   "execution_count": 13,
   "metadata": {},
   "outputs": [
    {
     "name": "stdout",
     "output_type": "stream",
     "text": [
      "9.0\n"
     ]
    }
   ],
   "source": [
    "if n%2 != 0: # 홀수\n",
    "    q1 = st.median(s[:lenth_s//2])\n",
    "    q3 = st.median(s[lenth_s//2+1:])\n",
    "else: # 짝수\n",
    "    q1 = st.median(s[:lenth_s//2])\n",
    "    q3 = st.median(s[lenth_s//2:])\n",
    "\n",
    "ir = round(float(q3-q1), 1)\n",
    "print(ir)"
   ]
  },
  {
   "cell_type": "code",
   "execution_count": 4,
   "metadata": {},
   "outputs": [
    {
     "name": "stdout",
     "output_type": "stream",
     "text": [
      "6\n",
      "6 12 8 10 20 16\n",
      "5 4 3 2 1 5\n",
      "9.0\n"
     ]
    }
   ],
   "source": [
    "# Enter your code here. Read input from STDIN. Print output to STDOUT\n",
    "n = int(input())\n",
    "x = list(map(int, input().split()))\n",
    "f = list(map(int, input().split()))\n",
    "\n",
    "import statistics as st\n",
    "s = []\n",
    "for i in range(n):\n",
    "    s += [x[i]] * f[i]\n",
    "\n",
    "s.sort()\n",
    "lenth_s = len(s)\n",
    "\n",
    "if n%2 != 0: # 홀수\n",
    "    q1 = st.median(s[:lenth_s//2])\n",
    "    q3 = st.median(s[lenth_s//2+1:])\n",
    "else: # 짝수\n",
    "    q1 = st.median(s[:lenth_s//2])\n",
    "    q3 = st.median(s[lenth_s//2:])\n",
    "\n",
    "ir = round(float(q3-q1), 1)\n",
    "print(ir)"
   ]
  }
 ],
 "metadata": {
  "kernelspec": {
   "display_name": "Python 3",
   "language": "python",
   "name": "python3"
  },
  "language_info": {
   "codemirror_mode": {
    "name": "ipython",
    "version": 3
   },
   "file_extension": ".py",
   "mimetype": "text/x-python",
   "name": "python",
   "nbconvert_exporter": "python",
   "pygments_lexer": "ipython3",
   "version": "3.7.4"
  }
 },
 "nbformat": 4,
 "nbformat_minor": 2
}
