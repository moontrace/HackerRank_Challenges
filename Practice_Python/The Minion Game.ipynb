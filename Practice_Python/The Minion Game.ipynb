{
 "cells": [
  {
   "cell_type": "markdown",
   "metadata": {},
   "source": [
    "스튜어트는 자음으로 시작하는 단어를 만들어야 한다.\n",
    "케빈은 모음으로 시작하는 단어를 만들어야 한다.\n",
    "모음은 AEIOU 뿐"
   ]
  },
  {
   "cell_type": "code",
   "execution_count": 1,
   "metadata": {},
   "outputs": [
    {
     "data": {
      "text/plain": [
       "['B', 'A', 'N', 'A', 'N', 'A']"
      ]
     },
     "execution_count": 1,
     "metadata": {},
     "output_type": "execute_result"
    }
   ],
   "source": [
    "# 모음\n",
    "s = list(\"BANANA\")\n",
    "s"
   ]
  },
  {
   "cell_type": "code",
   "execution_count": 2,
   "metadata": {},
   "outputs": [],
   "source": [
    "v = ['A', 'E', 'I', 'O', 'U']"
   ]
  },
  {
   "cell_type": "code",
   "execution_count": 3,
   "metadata": {},
   "outputs": [
    {
     "data": {
      "text/plain": [
       "['B', 'N', 'N']"
      ]
     },
     "execution_count": 3,
     "metadata": {},
     "output_type": "execute_result"
    }
   ],
   "source": [
    "check1 = [i for i in s if i not in v]\n",
    "check1"
   ]
  },
  {
   "cell_type": "code",
   "execution_count": 4,
   "metadata": {},
   "outputs": [
    {
     "data": {
      "text/plain": [
       "['A', 'A', 'A']"
      ]
     },
     "execution_count": 4,
     "metadata": {},
     "output_type": "execute_result"
    }
   ],
   "source": [
    "check2 = [i for i in s if i in v]\n",
    "check2"
   ]
  },
  {
   "cell_type": "markdown",
   "metadata": {},
   "source": [
    "### 뭔가 이상한 것 같다.\n",
    "- 결과가 뭔가 이상하다.\n",
    "- s 에서 그 글자가 v(모음) 이라면 글자를 하나씩 끄집어 내서 그 모음의 위치를 출력하는 함수를 만들려고 했다.\n",
    "- 하지만 마치 문턱에 걸려 넘어진 것 처럼. 이상한 숫자가 출력된다.\n",
    "- 결과분석 cnt1 [B, N, N]\n",
    "    - [B] : 첫번째 자음 b가 s에서 첫번째 위치에서 나온다.\n",
    "    - [N] : 두번째 자음 n이 s에서 세번째 위치에서 나온다.\n",
    "    - [N] : 세번째 자음 n이 s에서 세번째 위치에서 나온다.\n",
    "- 결론 : 망한 함수"
   ]
  },
  {
   "cell_type": "code",
   "execution_count": 5,
   "metadata": {},
   "outputs": [
    {
     "data": {
      "text/plain": [
       "[0, 2, 2]"
      ]
     },
     "execution_count": 5,
     "metadata": {},
     "output_type": "execute_result"
    }
   ],
   "source": [
    "cnt1 = [s.index(i) for i in s if i not in v]\n",
    "cnt1"
   ]
  },
  {
   "cell_type": "code",
   "execution_count": 6,
   "metadata": {},
   "outputs": [
    {
     "data": {
      "text/plain": [
       "[1, 1, 1]"
      ]
     },
     "execution_count": 6,
     "metadata": {},
     "output_type": "execute_result"
    }
   ],
   "source": [
    "cnt2 = [s.index(i) for i in s if i in v]\n",
    "cnt2"
   ]
  },
  {
   "cell_type": "markdown",
   "metadata": {},
   "source": [
    "### 그래서 각 함수를 출력하는 함수를 만들었다.\n",
    "- 문자열과 숫자의 조합 때문에 애를 먹었다.\n",
    "- 오류가 계속 출력되는데 else 0 (예외처리) 만 해줬으면 쉽게 바로 잡을 수 있었다.\n",
    "    - 오류 원인이 for <- 에 걸려있다면 if 문의 예외를 만들어주자.\n",
    "- 아무튼 어거지로 만든 코드다. 근데 문자와 숫자가 조합되네 뭔가 어색하다."
   ]
  },
  {
   "cell_type": "code",
   "execution_count": 7,
   "metadata": {
    "scrolled": true
   },
   "outputs": [
    {
     "data": {
      "text/plain": [
       "[['B', 'A', 'N', 'A', 'N', 'A'], 0, ['N', 'A', 'N', 'A'], 0, ['N', 'A'], 0]"
      ]
     },
     "execution_count": 7,
     "metadata": {},
     "output_type": "execute_result"
    }
   ],
   "source": [
    "s_list = [s[i:] if s[i] not in v else 0 for i in range(len(s))]\n",
    "s_list"
   ]
  },
  {
   "cell_type": "code",
   "execution_count": 8,
   "metadata": {},
   "outputs": [
    {
     "data": {
      "text/plain": [
       "[0, ['A', 'N', 'A', 'N', 'A'], 0, ['A', 'N', 'A'], 0, ['A']]"
      ]
     },
     "execution_count": 8,
     "metadata": {},
     "output_type": "execute_result"
    }
   ],
   "source": [
    "k_list = [s[i:] if s[i] in v else 0 for i in range(len(s))]\n",
    "k_list"
   ]
  },
  {
   "cell_type": "code",
   "execution_count": 9,
   "metadata": {},
   "outputs": [
    {
     "data": {
      "text/plain": [
       "[6, 0, 4, 0, 2, 0]"
      ]
     },
     "execution_count": 9,
     "metadata": {},
     "output_type": "execute_result"
    }
   ],
   "source": [
    "s_score = [len(s[i:]) if s[i] not in v else 0 for i in range(len(s))]\n",
    "s_score"
   ]
  },
  {
   "cell_type": "code",
   "execution_count": 10,
   "metadata": {},
   "outputs": [
    {
     "data": {
      "text/plain": [
       "[0, 5, 0, 3, 0, 1]"
      ]
     },
     "execution_count": 10,
     "metadata": {},
     "output_type": "execute_result"
    }
   ],
   "source": [
    "k_score = [len(s[i:]) if s[i] in v else 0 for i in range(len(s))]\n",
    "k_score"
   ]
  },
  {
   "cell_type": "markdown",
   "metadata": {},
   "source": [
    "### ??!! 스튜어트와 K의 점수를 구했다"
   ]
  },
  {
   "cell_type": "code",
   "execution_count": 11,
   "metadata": {},
   "outputs": [
    {
     "data": {
      "text/plain": [
       "(12, 9)"
      ]
     },
     "execution_count": 11,
     "metadata": {},
     "output_type": "execute_result"
    }
   ],
   "source": [
    "sum(s_score), sum(k_score)"
   ]
  },
  {
   "cell_type": "markdown",
   "metadata": {},
   "source": [
    "### 수학적인 방법\n",
    "- 점수 로직 다시 보기\n",
    "    - \"BANANA\"는 6개의 문자를 가진다.\n",
    "    - \"BANANA\"의 영문자의 숫자는 조합의 갯수이고, 이건 점수와 같다.\n",
    "        - ['B', 'A', 'N', 'A', 'N', 'A'] -> 6점\n",
    "        - ['BANANA'] -> 1점\n",
    "    - 문자열이 나오는 순서 -> 점수의 역수와 같다.\n",
    "    \n",
    "- 결과 출력\n",
    "    - + 이기는 것, 지는 것, 비기는 것 총 세가지 결과값이 나온다.\n",
    "        - 1명의 점수 = 총점/2 -> 비기는 것과 같다.\n",
    "        - K가 이긴다 : k의 점수 > (s의 점수 = 총점 - k의 점수)\n",
    "        - S가 이긴다 : k의 점수 < (s의 점수 = 총점 - k의 점수)\n",
    "    - 이 로직은 기억해놓자. 3 가지 경우의 수 구할 필요가 없는 것 같다."
   ]
  },
  {
   "cell_type": "code",
   "execution_count": 12,
   "metadata": {},
   "outputs": [
    {
     "data": {
      "text/plain": [
       "21"
      ]
     },
     "execution_count": 12,
     "metadata": {},
     "output_type": "execute_result"
    }
   ],
   "source": [
    "1 + 2 + 3 + 4 + 5 + 6"
   ]
  },
  {
   "cell_type": "code",
   "execution_count": 13,
   "metadata": {},
   "outputs": [
    {
     "data": {
      "text/plain": [
       "('BANANA', 6, 'AEIOU')"
      ]
     },
     "execution_count": 13,
     "metadata": {},
     "output_type": "execute_result"
    }
   ],
   "source": [
    "s = \"BANANA\"\n",
    "l = len(s)\n",
    "v = \"AEIOU\"\n",
    "s, l, v"
   ]
  },
  {
   "cell_type": "code",
   "execution_count": 14,
   "metadata": {},
   "outputs": [
    {
     "data": {
      "text/plain": [
       "21"
      ]
     },
     "execution_count": 14,
     "metadata": {},
     "output_type": "execute_result"
    }
   ],
   "source": [
    "total = sum([l - i for i in range(l)])\n",
    "total"
   ]
  },
  {
   "cell_type": "code",
   "execution_count": 15,
   "metadata": {},
   "outputs": [
    {
     "data": {
      "text/plain": [
       "12"
      ]
     },
     "execution_count": 15,
     "metadata": {},
     "output_type": "execute_result"
    }
   ],
   "source": [
    "sscore = sum([l-i if s[i] not in v else 0 for i in range(l)])\n",
    "sscore"
   ]
  },
  {
   "cell_type": "code",
   "execution_count": 16,
   "metadata": {},
   "outputs": [
    {
     "data": {
      "text/plain": [
       "[6, 0, 4, 0, 2, 0]"
      ]
     },
     "execution_count": 16,
     "metadata": {},
     "output_type": "execute_result"
    }
   ],
   "source": [
    "ssl = [l-i if s[i] not in v else 0 for i in range(l)]\n",
    "ssl"
   ]
  },
  {
   "cell_type": "markdown",
   "metadata": {},
   "source": [
    "1. s[0] \"BANANA\" : 의 경우의 수는 6 - 0 = 6\n",
    "2. s[2] \"ANA\" : 의 경우의 수는 6 - 2 = 4\n",
    "3. s[4] \"A\" : 의 경우의 수는 6 - 4 = 2"
   ]
  },
  {
   "cell_type": "code",
   "execution_count": 17,
   "metadata": {},
   "outputs": [
    {
     "data": {
      "text/plain": [
       "9"
      ]
     },
     "execution_count": 17,
     "metadata": {},
     "output_type": "execute_result"
    }
   ],
   "source": [
    "kscore = sum([l-i if s[i] in v else 0 for i in range(l)])\n",
    "kscore"
   ]
  },
  {
   "cell_type": "code",
   "execution_count": 18,
   "metadata": {},
   "outputs": [
    {
     "data": {
      "text/plain": [
       "[0, 5, 0, 3, 0, 1]"
      ]
     },
     "execution_count": 18,
     "metadata": {},
     "output_type": "execute_result"
    }
   ],
   "source": [
    "ksl = [l-i if s[i] in v else 0 for i in range(l)]\n",
    "ksl"
   ]
  },
  {
   "cell_type": "markdown",
   "metadata": {},
   "source": [
    "1. s[1] \"ANANA\" : 의 경우의 수는 6 - 1 = 5\n",
    "2. s[3] \"ANA\" : 의 경우의 수는 6-3 = 3\n",
    "3. s[5] \"A\" : 의 경우의 수는 6-5 = 1"
   ]
  },
  {
   "cell_type": "markdown",
   "metadata": {},
   "source": [
    "### 이기거나 지거나 두개 밖에 경우의 수가 없다."
   ]
  },
  {
   "cell_type": "code",
   "execution_count": 19,
   "metadata": {},
   "outputs": [
    {
     "name": "stdout",
     "output_type": "stream",
     "text": [
      "Stuart 12\n"
     ]
    }
   ],
   "source": [
    "if kscore != total / 2:\n",
    "    print('Kevin ' + str(kscore) if kscore > total - kscore else 'Stuart ' + str(total - kscore) )\n",
    "else:\n",
    "    print(\"Draw\")"
   ]
  },
  {
   "cell_type": "code",
   "execution_count": 20,
   "metadata": {},
   "outputs": [
    {
     "name": "stdout",
     "output_type": "stream",
     "text": [
      "BANANA\n",
      "Stuart 12\n"
     ]
    }
   ],
   "source": [
    "def minion_game(s):\n",
    "    # logic\n",
    "    v = [\"A\", \"E\", \"I\", \"O\", \"U\"]\n",
    "    total = sum([len(s) - i for i in range(len(s))])\n",
    "    kscore = sum([len(s[i:]) if s[i] in v else 0 for i in range(len(s))])\n",
    "\n",
    "    # output\n",
    "    if kscore != total / 2:\n",
    "        print('Kevin '+str(kscore) if kscore > total - kscore else 'Stuart ' + str(total - kscore))\n",
    "    else:\n",
    "        print('Draw')\n",
    "if __name__ == '__main__':\n",
    "    s = input()\n",
    "    minion_game(s)"
   ]
  },
  {
   "cell_type": "markdown",
   "metadata": {},
   "source": [
    "### 근데 이렇게 내니까 타임 아웃에 걸렸다. 더 짧게 써야할 듯\n",
    "- 매번 len하고, range하고 그래서 인듯"
   ]
  },
  {
   "cell_type": "code",
   "execution_count": 21,
   "metadata": {},
   "outputs": [
    {
     "name": "stdout",
     "output_type": "stream",
     "text": [
      "BANANA\n",
      "Stuart 12\n"
     ]
    }
   ],
   "source": [
    "def minion_game(s):\n",
    "    # logic\n",
    "    l = len(s)\n",
    "    v = \"AEIOU\"\n",
    "    total = sum([l - i for i in range(l)])\n",
    "    kscore = sum([l - i if s[i] in v else 0 for i in range(l)])\n",
    "\n",
    "    # output\n",
    "    if kscore != total / 2:\n",
    "        print('Kevin '+str(kscore) if kscore > total - kscore else 'Stuart ' + str(total - kscore))\n",
    "    else:\n",
    "        print('Draw')\n",
    "if __name__ == '__main__':\n",
    "    s = input()\n",
    "    minion_game(s)"
   ]
  }
 ],
 "metadata": {
  "kernelspec": {
   "display_name": "Python 3",
   "language": "python",
   "name": "python3"
  },
  "language_info": {
   "codemirror_mode": {
    "name": "ipython",
    "version": 3
   },
   "file_extension": ".py",
   "mimetype": "text/x-python",
   "name": "python",
   "nbconvert_exporter": "python",
   "pygments_lexer": "ipython3",
   "version": "3.7.4"
  }
 },
 "nbformat": 4,
 "nbformat_minor": 2
}
