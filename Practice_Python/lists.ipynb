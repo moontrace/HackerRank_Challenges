{
 "cells": [
  {
   "cell_type": "markdown",
   "metadata": {},
   "source": [
    "### list\n",
    "onsider a list (list = []). You can perform the following commands:\n",
    "1. insert i e : Insert integer at position .\n",
    "2. print: Print the list.\n",
    "3. remove e : Delete the first occurrence of integer .\n",
    "4. append e : Insert integer at the end of the list.\n",
    "5. sort: Sort the list.\n",
    "6. pop : Pop the last element from the list.\n",
    "7. reverse : Reverse the list.\n",
    "\n",
    "\n",
    "Initialize your list and read in the value of followed by lines of commands where each command will\n",
    "be of the types listed above. Iterate through each command in order and perform the corresponding\n",
    "operation on your list."
   ]
  },
  {
   "cell_type": "markdown",
   "metadata": {},
   "source": [
    "```\n",
    "# insert i e : Insert integer at position .\n",
    "insert 0 5\n",
    "[5]\n",
    "\n",
    "insert 1 10\n",
    "[5, 10]\n",
    "\n",
    "insert 0 6\n",
    "[6, 5, 10] # 밀리는 구나\n",
    "print # print!\n",
    "\n",
    "# remove e : Delete the first occurrence of integer \n",
    "remove 6\n",
    "[5, 10]\n",
    "\n",
    "# append e : Insert integer at the end of the list.\n",
    "append 9\n",
    "[5, 10, 9]\n",
    "\n",
    "append 1\n",
    "[5, 10, 9, 1]\n",
    "\n",
    "# sort: Sort the list.\n",
    "sort\n",
    "[1, 5, 9, 10]\n",
    "print\n",
    "\n",
    "# pop : Pop the last element from the list.\n",
    "pop\n",
    "[1, 5, 9]\n",
    "\n",
    "# 7. reverse : Reverse the list.\n",
    "reverse\n",
    "[9, 5, 1]\n",
    "print\n",
    "```"
   ]
  },
  {
   "cell_type": "markdown",
   "metadata": {},
   "source": [
    "- 이게 왜 이지지? input 빡센데"
   ]
  },
  {
   "cell_type": "code",
   "execution_count": 23,
   "metadata": {},
   "outputs": [
    {
     "ename": "SyntaxError",
     "evalue": "invalid syntax (<ipython-input-23-adbf21ab8a8d>, line 3)",
     "output_type": "error",
     "traceback": [
      "\u001b[1;36m  File \u001b[1;32m\"<ipython-input-23-adbf21ab8a8d>\"\u001b[1;36m, line \u001b[1;32m3\u001b[0m\n\u001b[1;33m    insert 0 5\u001b[0m\n\u001b[1;37m           ^\u001b[0m\n\u001b[1;31mSyntaxError\u001b[0m\u001b[1;31m:\u001b[0m invalid syntax\n"
     ]
    }
   ],
   "source": [
    "### input 용\n",
    "12\n",
    "insert 0 5\n",
    "insert 1 10\n",
    "insert 0 6\n",
    "print\n",
    "remove 6\n",
    "append 9\n",
    "append 1\n",
    "sort\n",
    "print\n",
    "pop\n",
    "reverse\n",
    "print"
   ]
  },
  {
   "cell_type": "code",
   "execution_count": 24,
   "metadata": {},
   "outputs": [
    {
     "data": {
      "text/plain": [
       "[6, 5, 10]"
      ]
     },
     "execution_count": 24,
     "metadata": {},
     "output_type": "execute_result"
    }
   ],
   "source": [
    "ls = []\n",
    "ls.insert(0, 5)\n",
    "ls.insert(1, 10)\n",
    "ls.insert(0, 6)\n",
    "ls"
   ]
  },
  {
   "cell_type": "code",
   "execution_count": 25,
   "metadata": {},
   "outputs": [
    {
     "data": {
      "text/plain": [
       "[5, 10]"
      ]
     },
     "execution_count": 25,
     "metadata": {},
     "output_type": "execute_result"
    }
   ],
   "source": [
    "ls.remove(6)\n",
    "ls"
   ]
  },
  {
   "cell_type": "code",
   "execution_count": 26,
   "metadata": {},
   "outputs": [
    {
     "data": {
      "text/plain": [
       "[5, 10, 6]"
      ]
     },
     "execution_count": 26,
     "metadata": {},
     "output_type": "execute_result"
    }
   ],
   "source": [
    "ls.append(6)\n",
    "ls"
   ]
  },
  {
   "cell_type": "code",
   "execution_count": 27,
   "metadata": {},
   "outputs": [
    {
     "name": "stdout",
     "output_type": "stream",
     "text": [
      "1\n",
      "e\n"
     ]
    }
   ],
   "source": [
    "if __name__ == '__main__':\n",
    "    N = int(input())\n",
    "    ls = []\n",
    "    for n in range(N):\n",
    "        command, *nums = input().split()\n",
    "        if command == \"insert\":\n",
    "            i, e = map(int, nums)\n",
    "            ls.insert(i, e)\n",
    "        \n",
    "        if command == \"print\":\n",
    "            print(ls)\n",
    "\n",
    "        if command == \"remove\":\n",
    "            i = int(nums[0])\n",
    "            ls.remove(i)\n",
    "        \n",
    "        if command == \"append\":\n",
    "            i = int(nums[0])\n",
    "            ls.append(i)\n",
    "            \n",
    "        if command == \"sort\":\n",
    "            ls.sort()\n",
    "        \n",
    "        if command == \"pop\":\n",
    "            ls.pop()\n",
    "        \n",
    "        if command == \"reverse\":\n",
    "            ls.reverse()"
   ]
  },
  {
   "cell_type": "code",
   "execution_count": 30,
   "metadata": {},
   "outputs": [
    {
     "data": {
      "text/plain": [
       "[]"
      ]
     },
     "execution_count": 30,
     "metadata": {},
     "output_type": "execute_result"
    }
   ],
   "source": [
    "# *파라미터 -> 리스트 + append 형태로 받는다.\n",
    "nums"
   ]
  },
  {
   "cell_type": "markdown",
   "metadata": {},
   "source": [
    "인풋 처리가 쥐약이다."
   ]
  },
  {
   "cell_type": "code",
   "execution_count": null,
   "metadata": {},
   "outputs": [],
   "source": []
  }
 ],
 "metadata": {
  "kernelspec": {
   "display_name": "Python 3",
   "language": "python",
   "name": "python3"
  },
  "language_info": {
   "codemirror_mode": {
    "name": "ipython",
    "version": 3
   },
   "file_extension": ".py",
   "mimetype": "text/x-python",
   "name": "python",
   "nbconvert_exporter": "python",
   "pygments_lexer": "ipython3",
   "version": "3.7.4"
  }
 },
 "nbformat": 4,
 "nbformat_minor": 2
}
