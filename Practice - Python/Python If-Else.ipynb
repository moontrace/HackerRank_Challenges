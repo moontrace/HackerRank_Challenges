{
  "nbformat": 4,
  "nbformat_minor": 0,
  "metadata": {
    "colab": {
      "name": "Untitled1.ipynb",
      "provenance": [],
      "include_colab_link": true
    },
    "kernelspec": {
      "name": "python3",
      "display_name": "Python 3"
    }
  },
  "cells": [
    {
      "cell_type": "markdown",
      "metadata": {
        "id": "view-in-github",
        "colab_type": "text"
      },
      "source": [
        "<a href=\"https://colab.research.google.com/github/moontrace/HackerRank_Challenges/blob/master/Python%20If-Else.ipynb\" target=\"_parent\"><img src=\"https://colab.research.google.com/assets/colab-badge.svg\" alt=\"Open In Colab\"/></a>"
      ]
    },
    {
      "cell_type": "code",
      "metadata": {
        "id": "dlpAgSLbL-Mb",
        "colab_type": "code",
        "colab": {
          "base_uri": "https://localhost:8080/",
          "height": 34
        },
        "outputId": "4e7c27fc-8683-4ad7-d4c4-6c944530d2fb"
      },
      "source": [
        "# if 안쓰고 문제 풀기\n",
        "n = int(input().strip())\n",
        "\n",
        "# True, False를 활용한 딕셔너리 함수\n",
        "check = {True: \"Not Weird\", False: \"Weird\"}\n",
        "\n",
        "print(check[\n",
        "        n%2==0 and (\n",
        "            n in range(2,6) or \n",
        "            n > 20)\n",
        "    ])"
      ],
      "execution_count": 2,
      "outputs": [
        {
          "output_type": "stream",
          "text": [
            "Not Weird\n"
          ],
          "name": "stdout"
        }
      ]
    }
  ]
}